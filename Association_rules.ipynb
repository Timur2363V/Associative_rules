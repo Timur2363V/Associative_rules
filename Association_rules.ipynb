{
  "nbformat": 4,
  "nbformat_minor": 0,
  "metadata": {
    "colab": {
      "name": "Untitled0.ipynb",
      "provenance": [],
      "collapsed_sections": [
        "b9CxABOYea6D",
        "i9UOsWKh0lB1",
        "1_WrQ4ye0fIy",
        "IhhEIs6p3pez",
        "y9DFwNzAKE5G",
        "lTaBaIewMT0u",
        "yptk3pOi2H2I"
      ]
    },
    "kernelspec": {
      "name": "python3",
      "display_name": "Python 3"
    },
    "language_info": {
      "name": "python"
    }
  },
  "cells": [
    {
      "cell_type": "markdown",
      "source": [
        "#Ассоциативные правила"
      ],
      "metadata": {
        "id": "b9CxABOYea6D"
      }
    },
    {
      "cell_type": "markdown",
      "source": [
        "Целью поиска ассоциативных правил является нахождение связонностей данных."
      ],
      "metadata": {
        "id": "CpNx_SpTfQ8G"
      }
    },
    {
      "cell_type": "markdown",
      "source": [
        "Постановка задачи:\n",
        "\n",
        "- Мы анализируем чеки (они же транзакции) покупателей супермаркета. В чеке может быть любой набор товаров.\n",
        "\n",
        "- Нам надо соотнести товары так, чтобы покупательная способность магазина увеличилась\n",
        "\n",
        "- например некоторые люди могут покупать шоколад вместе с чипсами, нам надо найти и соотнести такие товары и к примеру поставить на соответствующие ближайшие полки или закупить товары, которые более всего соотносятся"
      ],
      "metadata": {
        "id": "28CGX-0mff5E"
      }
    },
    {
      "cell_type": "markdown",
      "source": [
        "Пример: \n",
        "- при покупке хлеба часто покупают молоко\n",
        "- с вином часто покупают фрукты"
      ],
      "metadata": {
        "id": "xTTmrqKkfiJd"
      }
    },
    {
      "cell_type": "markdown",
      "source": [
        "**Определение**\n",
        "\n",
        "Ассоциативное правило - закономерность вида $A \\rightarrow B$, где A и B - множества объектов в корзине."
      ],
      "metadata": {
        "id": "TU0G280afp4b"
      }
    },
    {
      "cell_type": "markdown",
      "source": [
        "Для того, чтобы можно было сравнивать правила между собой, вводится несколько простых метрик:"
      ],
      "metadata": {
        "id": "h1nJngNMfvk8"
      }
    },
    {
      "cell_type": "markdown",
      "source": [
        "**1) Support правила(поддержка)** - доля данных, в которых присутсвтует и объект A, и объект B\n",
        "\n",
        "$$supp(A \\rightarrow B)=\\frac{|A \\cap B|}{|N|}$$"
      ],
      "metadata": {
        "id": "2idt-RxNfxbX"
      }
    },
    {
      "cell_type": "markdown",
      "source": [
        "**2) Confidence правила(достоверность)** - доля данных с объектами B, среди объектов A\n",
        "\n",
        "$$conf(A \\rightarrow B)=\\frac{supp(A \\cap B)}{supp(A)}$$"
      ],
      "metadata": {
        "id": "6A7F6imcfzMz"
      }
    },
    {
      "cell_type": "markdown",
      "source": [
        "**3) Lift правила** - насколько confidence правила A->B выше/ниже общей частоты объектов B\n",
        "\n",
        "$$lift(A \\rightarrow B)=\\frac{conf(A \\rightarrow B)}{supp(B)} = \\frac{supp(A \\cap B)}{supp(A) \\cdot supp(B)}$$\n",
        "\n",
        "Зачем нужен Lift: высокий confidence может объясняться просто большой популярностью продукта B, а вовсе не его хорошими дополняющими свойствами к продукту A. Метрика Lift этой особенности лишена.\n",
        "\n",
        "Support трактуется как \"устойчивость\" зависимости (как часто имеем возможность подобное правило наблюдать)\n",
        "\n",
        "Confidence трактуется как \"сила\" зависимости (при совпадении нужного набора продуктов как часто это правило действует)"
      ],
      "metadata": {
        "id": "BelBVfpyf1BE"
      }
    },
    {
      "cell_type": "markdown",
      "source": [
        "**Общий алгоритм** поиска ассоциативных правил:\n",
        "\n",
        "1) Найти комбинации часто встречающихся вместе продуктов (**frequent itemsets**)\n",
        "\n",
        "2) Для отобранных множеств-кандидатов построить на них все возможные ассоциативные правила, посчитать их метрики (confidence, support), отсортировать и вывести список наилучших правил"
      ],
      "metadata": {
        "id": "SCpLT6kogohP"
      }
    },
    {
      "cell_type": "markdown",
      "source": [
        "В правиле $A \\rightarrow B$:\n",
        "- Левая часть (A) называется Условие (**Antecedent**)\n",
        "- Правая часть (B) - называется Следствие (**Consequent**)"
      ],
      "metadata": {
        "id": "opePR0M1grHA"
      }
    },
    {
      "cell_type": "markdown",
      "source": [
        "Есть несколько способов представления товаров в чеке:\n",
        "- денормализованный \"плотный\" формат - делаем табличку с 1000 колонками (по числу товаров в магазине) и отмечаем те, которые клиент купил\n",
        "\n",
        "|Transaction_id| item1 | item2 | item3 | item4 | item5 | item6 | item7 | item8 | item9 | item10 |\n",
        "|---|---|---|---|---|---|---|---|---|---|---|\n",
        "|trn_1| 0 | 0 | 1 | 0 | 0 | 0 | 0 | 1 | 0 | 0 |\n",
        "|trn_2| 1 | 0 | 1 | 0 | 0 | 1 | 0 | 0 | 1 | 0 |\n",
        "|trn_3| 0 | 1 | 0 | 0 | 0 | 1 | 0 | 1 | 0 | 0 |\n",
        "|trn_4| 1 | 0 | 0 | 1 | 0 | 0 | 0 | 0 | 0 | 0 |\n",
        "|trn_5| 0 | 1 | 0 | 0 | 0 | 1 | 1 | 0 | 0 | 0 |\n",
        "\n",
        "- денормализованный \"разреженный\" формат (строка с названиями/идентификаторам продукта):\n",
        "\n",
        "|Transaction_id| items_list |\n",
        "|---|---|\n",
        "|trn_1| {item3, item8} |\n",
        "|trn_2| {item1, item3, item6, item9} |\n",
        "|trn_3| {item2, item6, item8} |\n",
        "|trn_4| {item1, item4} |\n",
        "|trn_5| {item2, item6, item7} |\n",
        "\n",
        "- нормализованный - одна запись таблицы это пара (trn_id, item)\n",
        "\n",
        "|Transaction_id | item_id |\n",
        "|---|---|\n",
        "|trn_1| item3 |\n",
        "|trn_1| item8 |\n",
        "|trn_2| item1 |\n",
        "|trn_2| item3 |\n",
        "|trn_2| item6 |\n",
        "|trn_2| item9 |\n",
        "|trn_3| item2 |\n",
        "| ... | ... |\n",
        "|trn_5| item7 |\n",
        "\n",
        "\n",
        "Каждая конректная реализация алгоритма работает со своим форматом входных данных (одним их перечисленных выше), поэтому при использовании сторонних библиотек необходимо предварительно смотреть документацию."
      ],
      "metadata": {
        "id": "jKnBa-RCg3yI"
      }
    },
    {
      "cell_type": "markdown",
      "source": [
        "#Apriori"
      ],
      "metadata": {
        "id": "i9UOsWKh0lB1"
      }
    },
    {
      "cell_type": "markdown",
      "source": [
        "Алгоритм Apriori ищет ассоциативные правила и применяется по отношению к базам данных, содержащим огромное количество транзакций."
      ],
      "metadata": {
        "id": "vTZjZ7leQfiB"
      }
    },
    {
      "cell_type": "markdown",
      "source": [
        "Используем алгоритм на примере данных с чеками покупок в магазине"
      ],
      "metadata": {
        "id": "KQ_PmWilQk5S"
      }
    },
    {
      "cell_type": "markdown",
      "source": [
        "Загружаем библиотеки"
      ],
      "metadata": {
        "id": "xPSAGmVHQwv7"
      }
    },
    {
      "cell_type": "code",
      "source": [
        "import pandas as pd\n",
        "from mlxtend.preprocessing import TransactionEncoder\n",
        "from mlxtend.frequent_patterns import apriori\n",
        "from mlxtend.frequent_patterns import association_rules"
      ],
      "metadata": {
        "id": "IegVzAYAh-0M"
      },
      "execution_count": 205,
      "outputs": []
    },
    {
      "cell_type": "markdown",
      "source": [
        "Загружаем сами данные"
      ],
      "metadata": {
        "id": "EJN-RllGQ0zU"
      }
    },
    {
      "cell_type": "code",
      "execution_count": 206,
      "metadata": {
        "colab": {
          "base_uri": "https://localhost:8080/",
          "height": 322
        },
        "id": "BeqVPqjdWdiM",
        "outputId": "e60ab2f2-cb25-4e9a-f35c-ff5883a05b06"
      },
      "outputs": [
        {
          "output_type": "execute_result",
          "data": {
            "text/plain": [
              "               1          2           3                 4             5  \\\n",
              "0         shrimp    almonds     avocado    vegetables mix  green grapes   \n",
              "1        burgers  meatballs        eggs               NaN           NaN   \n",
              "2        chutney        NaN         NaN               NaN           NaN   \n",
              "3         turkey    avocado         NaN               NaN           NaN   \n",
              "4  mineral water       milk  energy bar  whole wheat rice     green tea   \n",
              "\n",
              "                  6     7               8             9            10  \\\n",
              "0  whole weat flour  yams  cottage cheese  energy drink  tomato juice   \n",
              "1               NaN   NaN             NaN           NaN           NaN   \n",
              "2               NaN   NaN             NaN           NaN           NaN   \n",
              "3               NaN   NaN             NaN           NaN           NaN   \n",
              "4               NaN   NaN             NaN           NaN           NaN   \n",
              "\n",
              "               11         12     13     14             15      16  \\\n",
              "0  low fat yogurt  green tea  honey  salad  mineral water  salmon   \n",
              "1             NaN        NaN    NaN    NaN            NaN     NaN   \n",
              "2             NaN        NaN    NaN    NaN            NaN     NaN   \n",
              "3             NaN        NaN    NaN    NaN            NaN     NaN   \n",
              "4             NaN        NaN    NaN    NaN            NaN     NaN   \n",
              "\n",
              "                  17               18       19         20  \n",
              "0  antioxydant juice  frozen smoothie  spinach  olive oil  \n",
              "1                NaN              NaN      NaN        NaN  \n",
              "2                NaN              NaN      NaN        NaN  \n",
              "3                NaN              NaN      NaN        NaN  \n",
              "4                NaN              NaN      NaN        NaN  "
            ],
            "text/html": [
              "\n",
              "  <div id=\"df-b3c8f43b-5ba4-408e-b51f-ff081341e448\">\n",
              "    <div class=\"colab-df-container\">\n",
              "      <div>\n",
              "<style scoped>\n",
              "    .dataframe tbody tr th:only-of-type {\n",
              "        vertical-align: middle;\n",
              "    }\n",
              "\n",
              "    .dataframe tbody tr th {\n",
              "        vertical-align: top;\n",
              "    }\n",
              "\n",
              "    .dataframe thead th {\n",
              "        text-align: right;\n",
              "    }\n",
              "</style>\n",
              "<table border=\"1\" class=\"dataframe\">\n",
              "  <thead>\n",
              "    <tr style=\"text-align: right;\">\n",
              "      <th></th>\n",
              "      <th>1</th>\n",
              "      <th>2</th>\n",
              "      <th>3</th>\n",
              "      <th>4</th>\n",
              "      <th>5</th>\n",
              "      <th>6</th>\n",
              "      <th>7</th>\n",
              "      <th>8</th>\n",
              "      <th>9</th>\n",
              "      <th>10</th>\n",
              "      <th>11</th>\n",
              "      <th>12</th>\n",
              "      <th>13</th>\n",
              "      <th>14</th>\n",
              "      <th>15</th>\n",
              "      <th>16</th>\n",
              "      <th>17</th>\n",
              "      <th>18</th>\n",
              "      <th>19</th>\n",
              "      <th>20</th>\n",
              "    </tr>\n",
              "  </thead>\n",
              "  <tbody>\n",
              "    <tr>\n",
              "      <th>0</th>\n",
              "      <td>shrimp</td>\n",
              "      <td>almonds</td>\n",
              "      <td>avocado</td>\n",
              "      <td>vegetables mix</td>\n",
              "      <td>green grapes</td>\n",
              "      <td>whole weat flour</td>\n",
              "      <td>yams</td>\n",
              "      <td>cottage cheese</td>\n",
              "      <td>energy drink</td>\n",
              "      <td>tomato juice</td>\n",
              "      <td>low fat yogurt</td>\n",
              "      <td>green tea</td>\n",
              "      <td>honey</td>\n",
              "      <td>salad</td>\n",
              "      <td>mineral water</td>\n",
              "      <td>salmon</td>\n",
              "      <td>antioxydant juice</td>\n",
              "      <td>frozen smoothie</td>\n",
              "      <td>spinach</td>\n",
              "      <td>olive oil</td>\n",
              "    </tr>\n",
              "    <tr>\n",
              "      <th>1</th>\n",
              "      <td>burgers</td>\n",
              "      <td>meatballs</td>\n",
              "      <td>eggs</td>\n",
              "      <td>NaN</td>\n",
              "      <td>NaN</td>\n",
              "      <td>NaN</td>\n",
              "      <td>NaN</td>\n",
              "      <td>NaN</td>\n",
              "      <td>NaN</td>\n",
              "      <td>NaN</td>\n",
              "      <td>NaN</td>\n",
              "      <td>NaN</td>\n",
              "      <td>NaN</td>\n",
              "      <td>NaN</td>\n",
              "      <td>NaN</td>\n",
              "      <td>NaN</td>\n",
              "      <td>NaN</td>\n",
              "      <td>NaN</td>\n",
              "      <td>NaN</td>\n",
              "      <td>NaN</td>\n",
              "    </tr>\n",
              "    <tr>\n",
              "      <th>2</th>\n",
              "      <td>chutney</td>\n",
              "      <td>NaN</td>\n",
              "      <td>NaN</td>\n",
              "      <td>NaN</td>\n",
              "      <td>NaN</td>\n",
              "      <td>NaN</td>\n",
              "      <td>NaN</td>\n",
              "      <td>NaN</td>\n",
              "      <td>NaN</td>\n",
              "      <td>NaN</td>\n",
              "      <td>NaN</td>\n",
              "      <td>NaN</td>\n",
              "      <td>NaN</td>\n",
              "      <td>NaN</td>\n",
              "      <td>NaN</td>\n",
              "      <td>NaN</td>\n",
              "      <td>NaN</td>\n",
              "      <td>NaN</td>\n",
              "      <td>NaN</td>\n",
              "      <td>NaN</td>\n",
              "    </tr>\n",
              "    <tr>\n",
              "      <th>3</th>\n",
              "      <td>turkey</td>\n",
              "      <td>avocado</td>\n",
              "      <td>NaN</td>\n",
              "      <td>NaN</td>\n",
              "      <td>NaN</td>\n",
              "      <td>NaN</td>\n",
              "      <td>NaN</td>\n",
              "      <td>NaN</td>\n",
              "      <td>NaN</td>\n",
              "      <td>NaN</td>\n",
              "      <td>NaN</td>\n",
              "      <td>NaN</td>\n",
              "      <td>NaN</td>\n",
              "      <td>NaN</td>\n",
              "      <td>NaN</td>\n",
              "      <td>NaN</td>\n",
              "      <td>NaN</td>\n",
              "      <td>NaN</td>\n",
              "      <td>NaN</td>\n",
              "      <td>NaN</td>\n",
              "    </tr>\n",
              "    <tr>\n",
              "      <th>4</th>\n",
              "      <td>mineral water</td>\n",
              "      <td>milk</td>\n",
              "      <td>energy bar</td>\n",
              "      <td>whole wheat rice</td>\n",
              "      <td>green tea</td>\n",
              "      <td>NaN</td>\n",
              "      <td>NaN</td>\n",
              "      <td>NaN</td>\n",
              "      <td>NaN</td>\n",
              "      <td>NaN</td>\n",
              "      <td>NaN</td>\n",
              "      <td>NaN</td>\n",
              "      <td>NaN</td>\n",
              "      <td>NaN</td>\n",
              "      <td>NaN</td>\n",
              "      <td>NaN</td>\n",
              "      <td>NaN</td>\n",
              "      <td>NaN</td>\n",
              "      <td>NaN</td>\n",
              "      <td>NaN</td>\n",
              "    </tr>\n",
              "  </tbody>\n",
              "</table>\n",
              "</div>\n",
              "      <button class=\"colab-df-convert\" onclick=\"convertToInteractive('df-b3c8f43b-5ba4-408e-b51f-ff081341e448')\"\n",
              "              title=\"Convert this dataframe to an interactive table.\"\n",
              "              style=\"display:none;\">\n",
              "        \n",
              "  <svg xmlns=\"http://www.w3.org/2000/svg\" height=\"24px\"viewBox=\"0 0 24 24\"\n",
              "       width=\"24px\">\n",
              "    <path d=\"M0 0h24v24H0V0z\" fill=\"none\"/>\n",
              "    <path d=\"M18.56 5.44l.94 2.06.94-2.06 2.06-.94-2.06-.94-.94-2.06-.94 2.06-2.06.94zm-11 1L8.5 8.5l.94-2.06 2.06-.94-2.06-.94L8.5 2.5l-.94 2.06-2.06.94zm10 10l.94 2.06.94-2.06 2.06-.94-2.06-.94-.94-2.06-.94 2.06-2.06.94z\"/><path d=\"M17.41 7.96l-1.37-1.37c-.4-.4-.92-.59-1.43-.59-.52 0-1.04.2-1.43.59L10.3 9.45l-7.72 7.72c-.78.78-.78 2.05 0 2.83L4 21.41c.39.39.9.59 1.41.59.51 0 1.02-.2 1.41-.59l7.78-7.78 2.81-2.81c.8-.78.8-2.07 0-2.86zM5.41 20L4 18.59l7.72-7.72 1.47 1.35L5.41 20z\"/>\n",
              "  </svg>\n",
              "      </button>\n",
              "      \n",
              "  <style>\n",
              "    .colab-df-container {\n",
              "      display:flex;\n",
              "      flex-wrap:wrap;\n",
              "      gap: 12px;\n",
              "    }\n",
              "\n",
              "    .colab-df-convert {\n",
              "      background-color: #E8F0FE;\n",
              "      border: none;\n",
              "      border-radius: 50%;\n",
              "      cursor: pointer;\n",
              "      display: none;\n",
              "      fill: #1967D2;\n",
              "      height: 32px;\n",
              "      padding: 0 0 0 0;\n",
              "      width: 32px;\n",
              "    }\n",
              "\n",
              "    .colab-df-convert:hover {\n",
              "      background-color: #E2EBFA;\n",
              "      box-shadow: 0px 1px 2px rgba(60, 64, 67, 0.3), 0px 1px 3px 1px rgba(60, 64, 67, 0.15);\n",
              "      fill: #174EA6;\n",
              "    }\n",
              "\n",
              "    [theme=dark] .colab-df-convert {\n",
              "      background-color: #3B4455;\n",
              "      fill: #D2E3FC;\n",
              "    }\n",
              "\n",
              "    [theme=dark] .colab-df-convert:hover {\n",
              "      background-color: #434B5C;\n",
              "      box-shadow: 0px 1px 3px 1px rgba(0, 0, 0, 0.15);\n",
              "      filter: drop-shadow(0px 1px 2px rgba(0, 0, 0, 0.3));\n",
              "      fill: #FFFFFF;\n",
              "    }\n",
              "  </style>\n",
              "\n",
              "      <script>\n",
              "        const buttonEl =\n",
              "          document.querySelector('#df-b3c8f43b-5ba4-408e-b51f-ff081341e448 button.colab-df-convert');\n",
              "        buttonEl.style.display =\n",
              "          google.colab.kernel.accessAllowed ? 'block' : 'none';\n",
              "\n",
              "        async function convertToInteractive(key) {\n",
              "          const element = document.querySelector('#df-b3c8f43b-5ba4-408e-b51f-ff081341e448');\n",
              "          const dataTable =\n",
              "            await google.colab.kernel.invokeFunction('convertToInteractive',\n",
              "                                                     [key], {});\n",
              "          if (!dataTable) return;\n",
              "\n",
              "          const docLinkHtml = 'Like what you see? Visit the ' +\n",
              "            '<a target=\"_blank\" href=https://colab.research.google.com/notebooks/data_table.ipynb>data table notebook</a>'\n",
              "            + ' to learn more about interactive tables.';\n",
              "          element.innerHTML = '';\n",
              "          dataTable['output_type'] = 'display_data';\n",
              "          await google.colab.output.renderOutput(dataTable, element);\n",
              "          const docLink = document.createElement('div');\n",
              "          docLink.innerHTML = docLinkHtml;\n",
              "          element.appendChild(docLink);\n",
              "        }\n",
              "      </script>\n",
              "    </div>\n",
              "  </div>\n",
              "  "
            ]
          },
          "metadata": {},
          "execution_count": 206
        }
      ],
      "source": [
        "df = pd.read_csv(\"Market_Basket_Optimisation.csv\")\n",
        "df.head(5)"
      ]
    },
    {
      "cell_type": "markdown",
      "source": [
        "В данных присутствуют различные продукты записанные в чеке, не купленные помечены как NaN для упращения работы их нужно заменить на первые попавшиеся значения"
      ],
      "metadata": {
        "id": "hD3lq0YClKWH"
      }
    },
    {
      "cell_type": "code",
      "source": [
        "df.ffill(axis=1, inplace=True)\n",
        "df.head()"
      ],
      "metadata": {
        "colab": {
          "base_uri": "https://localhost:8080/",
          "height": 322
        },
        "id": "bVy6TIJMlBcq",
        "outputId": "93cbecad-8e1f-4b62-deec-c5e7b378d745"
      },
      "execution_count": 207,
      "outputs": [
        {
          "output_type": "execute_result",
          "data": {
            "text/plain": [
              "               1          2           3                 4             5  \\\n",
              "0         shrimp    almonds     avocado    vegetables mix  green grapes   \n",
              "1        burgers  meatballs        eggs              eggs          eggs   \n",
              "2        chutney    chutney     chutney           chutney       chutney   \n",
              "3         turkey    avocado     avocado           avocado       avocado   \n",
              "4  mineral water       milk  energy bar  whole wheat rice     green tea   \n",
              "\n",
              "                  6          7               8             9            10  \\\n",
              "0  whole weat flour       yams  cottage cheese  energy drink  tomato juice   \n",
              "1              eggs       eggs            eggs          eggs          eggs   \n",
              "2           chutney    chutney         chutney       chutney       chutney   \n",
              "3           avocado    avocado         avocado       avocado       avocado   \n",
              "4         green tea  green tea       green tea     green tea     green tea   \n",
              "\n",
              "               11         12         13         14             15         16  \\\n",
              "0  low fat yogurt  green tea      honey      salad  mineral water     salmon   \n",
              "1            eggs       eggs       eggs       eggs           eggs       eggs   \n",
              "2         chutney    chutney    chutney    chutney        chutney    chutney   \n",
              "3         avocado    avocado    avocado    avocado        avocado    avocado   \n",
              "4       green tea  green tea  green tea  green tea      green tea  green tea   \n",
              "\n",
              "                  17               18         19         20  \n",
              "0  antioxydant juice  frozen smoothie    spinach  olive oil  \n",
              "1               eggs             eggs       eggs       eggs  \n",
              "2            chutney          chutney    chutney    chutney  \n",
              "3            avocado          avocado    avocado    avocado  \n",
              "4          green tea        green tea  green tea  green tea  "
            ],
            "text/html": [
              "\n",
              "  <div id=\"df-7a9583a1-50e2-44fe-9867-288cb36e9d28\">\n",
              "    <div class=\"colab-df-container\">\n",
              "      <div>\n",
              "<style scoped>\n",
              "    .dataframe tbody tr th:only-of-type {\n",
              "        vertical-align: middle;\n",
              "    }\n",
              "\n",
              "    .dataframe tbody tr th {\n",
              "        vertical-align: top;\n",
              "    }\n",
              "\n",
              "    .dataframe thead th {\n",
              "        text-align: right;\n",
              "    }\n",
              "</style>\n",
              "<table border=\"1\" class=\"dataframe\">\n",
              "  <thead>\n",
              "    <tr style=\"text-align: right;\">\n",
              "      <th></th>\n",
              "      <th>1</th>\n",
              "      <th>2</th>\n",
              "      <th>3</th>\n",
              "      <th>4</th>\n",
              "      <th>5</th>\n",
              "      <th>6</th>\n",
              "      <th>7</th>\n",
              "      <th>8</th>\n",
              "      <th>9</th>\n",
              "      <th>10</th>\n",
              "      <th>11</th>\n",
              "      <th>12</th>\n",
              "      <th>13</th>\n",
              "      <th>14</th>\n",
              "      <th>15</th>\n",
              "      <th>16</th>\n",
              "      <th>17</th>\n",
              "      <th>18</th>\n",
              "      <th>19</th>\n",
              "      <th>20</th>\n",
              "    </tr>\n",
              "  </thead>\n",
              "  <tbody>\n",
              "    <tr>\n",
              "      <th>0</th>\n",
              "      <td>shrimp</td>\n",
              "      <td>almonds</td>\n",
              "      <td>avocado</td>\n",
              "      <td>vegetables mix</td>\n",
              "      <td>green grapes</td>\n",
              "      <td>whole weat flour</td>\n",
              "      <td>yams</td>\n",
              "      <td>cottage cheese</td>\n",
              "      <td>energy drink</td>\n",
              "      <td>tomato juice</td>\n",
              "      <td>low fat yogurt</td>\n",
              "      <td>green tea</td>\n",
              "      <td>honey</td>\n",
              "      <td>salad</td>\n",
              "      <td>mineral water</td>\n",
              "      <td>salmon</td>\n",
              "      <td>antioxydant juice</td>\n",
              "      <td>frozen smoothie</td>\n",
              "      <td>spinach</td>\n",
              "      <td>olive oil</td>\n",
              "    </tr>\n",
              "    <tr>\n",
              "      <th>1</th>\n",
              "      <td>burgers</td>\n",
              "      <td>meatballs</td>\n",
              "      <td>eggs</td>\n",
              "      <td>eggs</td>\n",
              "      <td>eggs</td>\n",
              "      <td>eggs</td>\n",
              "      <td>eggs</td>\n",
              "      <td>eggs</td>\n",
              "      <td>eggs</td>\n",
              "      <td>eggs</td>\n",
              "      <td>eggs</td>\n",
              "      <td>eggs</td>\n",
              "      <td>eggs</td>\n",
              "      <td>eggs</td>\n",
              "      <td>eggs</td>\n",
              "      <td>eggs</td>\n",
              "      <td>eggs</td>\n",
              "      <td>eggs</td>\n",
              "      <td>eggs</td>\n",
              "      <td>eggs</td>\n",
              "    </tr>\n",
              "    <tr>\n",
              "      <th>2</th>\n",
              "      <td>chutney</td>\n",
              "      <td>chutney</td>\n",
              "      <td>chutney</td>\n",
              "      <td>chutney</td>\n",
              "      <td>chutney</td>\n",
              "      <td>chutney</td>\n",
              "      <td>chutney</td>\n",
              "      <td>chutney</td>\n",
              "      <td>chutney</td>\n",
              "      <td>chutney</td>\n",
              "      <td>chutney</td>\n",
              "      <td>chutney</td>\n",
              "      <td>chutney</td>\n",
              "      <td>chutney</td>\n",
              "      <td>chutney</td>\n",
              "      <td>chutney</td>\n",
              "      <td>chutney</td>\n",
              "      <td>chutney</td>\n",
              "      <td>chutney</td>\n",
              "      <td>chutney</td>\n",
              "    </tr>\n",
              "    <tr>\n",
              "      <th>3</th>\n",
              "      <td>turkey</td>\n",
              "      <td>avocado</td>\n",
              "      <td>avocado</td>\n",
              "      <td>avocado</td>\n",
              "      <td>avocado</td>\n",
              "      <td>avocado</td>\n",
              "      <td>avocado</td>\n",
              "      <td>avocado</td>\n",
              "      <td>avocado</td>\n",
              "      <td>avocado</td>\n",
              "      <td>avocado</td>\n",
              "      <td>avocado</td>\n",
              "      <td>avocado</td>\n",
              "      <td>avocado</td>\n",
              "      <td>avocado</td>\n",
              "      <td>avocado</td>\n",
              "      <td>avocado</td>\n",
              "      <td>avocado</td>\n",
              "      <td>avocado</td>\n",
              "      <td>avocado</td>\n",
              "    </tr>\n",
              "    <tr>\n",
              "      <th>4</th>\n",
              "      <td>mineral water</td>\n",
              "      <td>milk</td>\n",
              "      <td>energy bar</td>\n",
              "      <td>whole wheat rice</td>\n",
              "      <td>green tea</td>\n",
              "      <td>green tea</td>\n",
              "      <td>green tea</td>\n",
              "      <td>green tea</td>\n",
              "      <td>green tea</td>\n",
              "      <td>green tea</td>\n",
              "      <td>green tea</td>\n",
              "      <td>green tea</td>\n",
              "      <td>green tea</td>\n",
              "      <td>green tea</td>\n",
              "      <td>green tea</td>\n",
              "      <td>green tea</td>\n",
              "      <td>green tea</td>\n",
              "      <td>green tea</td>\n",
              "      <td>green tea</td>\n",
              "      <td>green tea</td>\n",
              "    </tr>\n",
              "  </tbody>\n",
              "</table>\n",
              "</div>\n",
              "      <button class=\"colab-df-convert\" onclick=\"convertToInteractive('df-7a9583a1-50e2-44fe-9867-288cb36e9d28')\"\n",
              "              title=\"Convert this dataframe to an interactive table.\"\n",
              "              style=\"display:none;\">\n",
              "        \n",
              "  <svg xmlns=\"http://www.w3.org/2000/svg\" height=\"24px\"viewBox=\"0 0 24 24\"\n",
              "       width=\"24px\">\n",
              "    <path d=\"M0 0h24v24H0V0z\" fill=\"none\"/>\n",
              "    <path d=\"M18.56 5.44l.94 2.06.94-2.06 2.06-.94-2.06-.94-.94-2.06-.94 2.06-2.06.94zm-11 1L8.5 8.5l.94-2.06 2.06-.94-2.06-.94L8.5 2.5l-.94 2.06-2.06.94zm10 10l.94 2.06.94-2.06 2.06-.94-2.06-.94-.94-2.06-.94 2.06-2.06.94z\"/><path d=\"M17.41 7.96l-1.37-1.37c-.4-.4-.92-.59-1.43-.59-.52 0-1.04.2-1.43.59L10.3 9.45l-7.72 7.72c-.78.78-.78 2.05 0 2.83L4 21.41c.39.39.9.59 1.41.59.51 0 1.02-.2 1.41-.59l7.78-7.78 2.81-2.81c.8-.78.8-2.07 0-2.86zM5.41 20L4 18.59l7.72-7.72 1.47 1.35L5.41 20z\"/>\n",
              "  </svg>\n",
              "      </button>\n",
              "      \n",
              "  <style>\n",
              "    .colab-df-container {\n",
              "      display:flex;\n",
              "      flex-wrap:wrap;\n",
              "      gap: 12px;\n",
              "    }\n",
              "\n",
              "    .colab-df-convert {\n",
              "      background-color: #E8F0FE;\n",
              "      border: none;\n",
              "      border-radius: 50%;\n",
              "      cursor: pointer;\n",
              "      display: none;\n",
              "      fill: #1967D2;\n",
              "      height: 32px;\n",
              "      padding: 0 0 0 0;\n",
              "      width: 32px;\n",
              "    }\n",
              "\n",
              "    .colab-df-convert:hover {\n",
              "      background-color: #E2EBFA;\n",
              "      box-shadow: 0px 1px 2px rgba(60, 64, 67, 0.3), 0px 1px 3px 1px rgba(60, 64, 67, 0.15);\n",
              "      fill: #174EA6;\n",
              "    }\n",
              "\n",
              "    [theme=dark] .colab-df-convert {\n",
              "      background-color: #3B4455;\n",
              "      fill: #D2E3FC;\n",
              "    }\n",
              "\n",
              "    [theme=dark] .colab-df-convert:hover {\n",
              "      background-color: #434B5C;\n",
              "      box-shadow: 0px 1px 3px 1px rgba(0, 0, 0, 0.15);\n",
              "      filter: drop-shadow(0px 1px 2px rgba(0, 0, 0, 0.3));\n",
              "      fill: #FFFFFF;\n",
              "    }\n",
              "  </style>\n",
              "\n",
              "      <script>\n",
              "        const buttonEl =\n",
              "          document.querySelector('#df-7a9583a1-50e2-44fe-9867-288cb36e9d28 button.colab-df-convert');\n",
              "        buttonEl.style.display =\n",
              "          google.colab.kernel.accessAllowed ? 'block' : 'none';\n",
              "\n",
              "        async function convertToInteractive(key) {\n",
              "          const element = document.querySelector('#df-7a9583a1-50e2-44fe-9867-288cb36e9d28');\n",
              "          const dataTable =\n",
              "            await google.colab.kernel.invokeFunction('convertToInteractive',\n",
              "                                                     [key], {});\n",
              "          if (!dataTable) return;\n",
              "\n",
              "          const docLinkHtml = 'Like what you see? Visit the ' +\n",
              "            '<a target=\"_blank\" href=https://colab.research.google.com/notebooks/data_table.ipynb>data table notebook</a>'\n",
              "            + ' to learn more about interactive tables.';\n",
              "          element.innerHTML = '';\n",
              "          dataTable['output_type'] = 'display_data';\n",
              "          await google.colab.output.renderOutput(dataTable, element);\n",
              "          const docLink = document.createElement('div');\n",
              "          docLink.innerHTML = docLinkHtml;\n",
              "          element.appendChild(docLink);\n",
              "        }\n",
              "      </script>\n",
              "    </div>\n",
              "  </div>\n",
              "  "
            ]
          },
          "metadata": {},
          "execution_count": 207
        }
      ]
    },
    {
      "cell_type": "markdown",
      "source": [
        "Приведем транзакции в матричный вид"
      ],
      "metadata": {
        "id": "wZ4C8_zpRpdo"
      }
    },
    {
      "cell_type": "code",
      "source": [
        "transactions = []\n",
        "for i in range(0, 7501): \n",
        "    transactions.append([str(df.values[i,j]) for j in range(0, 20)])\n",
        "transactions[:1]"
      ],
      "metadata": {
        "colab": {
          "base_uri": "https://localhost:8080/"
        },
        "id": "15BQAcIPlNvN",
        "outputId": "29063810-e77a-4b86-a922-099144fd1fa2"
      },
      "execution_count": 208,
      "outputs": [
        {
          "output_type": "execute_result",
          "data": {
            "text/plain": [
              "[['shrimp',\n",
              "  'almonds',\n",
              "  'avocado',\n",
              "  'vegetables mix',\n",
              "  'green grapes',\n",
              "  'whole weat flour',\n",
              "  'yams',\n",
              "  'cottage cheese',\n",
              "  'energy drink',\n",
              "  'tomato juice',\n",
              "  'low fat yogurt',\n",
              "  'green tea',\n",
              "  'honey',\n",
              "  'salad',\n",
              "  'mineral water',\n",
              "  'salmon',\n",
              "  'antioxydant juice',\n",
              "  'frozen smoothie',\n",
              "  'spinach',\n",
              "  'olive oil']]"
            ]
          },
          "metadata": {},
          "execution_count": 208
        }
      ]
    },
    {
      "cell_type": "markdown",
      "source": [
        "Переведем транзакции для алгоритма в правильный вид"
      ],
      "metadata": {
        "id": "l3Oj68OhSBST"
      }
    },
    {
      "cell_type": "code",
      "source": [
        "te = TransactionEncoder()\n",
        "te.fit(transactions)\n",
        "\n",
        "print(\"Список товаров, которые нашел TransactionEncoder = {}\".format(te.columns_))"
      ],
      "metadata": {
        "colab": {
          "base_uri": "https://localhost:8080/"
        },
        "id": "34ZPbh0BsSqs",
        "outputId": "a0dc69e1-bec5-47bb-bbe1-b58c819ee6b9"
      },
      "execution_count": 209,
      "outputs": [
        {
          "output_type": "stream",
          "name": "stdout",
          "text": [
            "Список товаров, которые нашел TransactionEncoder = ['almonds', 'antioxydant juice', 'asparagus', 'avocado', 'babies food', 'bacon', 'barbecue sauce', 'black tea', 'blueberries', 'body spray', 'bramble', 'brownies', 'bug spray', 'burger sauce', 'burgers', 'butter', 'cake', 'candy bars', 'carrots', 'cauliflower', 'cereals', 'champagne', 'chicken', 'chili', 'chocolate', 'chocolate bread', 'chutney', 'cider', 'clothes accessories', 'cookies', 'cooking oil', 'corn', 'cottage cheese', 'cream', 'dessert wine', 'eggplant', 'eggs', 'energy bar', 'energy drink', 'escalope', 'extra dark chocolate', 'flax seed', 'french fries', 'french wine', 'fresh bread', 'fresh tuna', 'fromage blanc', 'frozen smoothie', 'frozen vegetables', 'gluten free bar', 'grated cheese', 'green beans', 'green grapes', 'green tea', 'ground beef', 'gums', 'ham', 'hand protein bar', 'herb & pepper', 'honey', 'hot dogs', 'ketchup', 'light cream', 'light mayo', 'low fat yogurt', 'magazines', 'mashed potato', 'mayonnaise', 'meatballs', 'melons', 'milk', 'mineral water', 'mint', 'mint green tea', 'muffins', 'mushroom cream sauce', 'napkins', 'nonfat milk', 'oatmeal', 'oil', 'olive oil', 'pancakes', 'parmesan cheese', 'pasta', 'pepper', 'pet food', 'pickles', 'protein bar', 'red wine', 'rice', 'salad', 'salmon', 'salt', 'sandwich', 'shallot', 'shampoo', 'shrimp', 'soda', 'soup', 'spaghetti', 'sparkling water', 'spinach', 'strawberries', 'strong cheese', 'tea', 'tomato juice', 'tomato sauce', 'tomatoes', 'toothpaste', 'turkey', 'vegetables mix', 'water spray', 'white wine', 'whole weat flour', 'whole wheat pasta', 'whole wheat rice', 'yams', 'yogurt cake', 'zucchini']\n"
          ]
        }
      ]
    },
    {
      "cell_type": "markdown",
      "source": [
        "Заполним полученные данные логическим типом true есть в чеке, false нет"
      ],
      "metadata": {
        "id": "aPyaXT3ASU0A"
      }
    },
    {
      "cell_type": "code",
      "source": [
        "transactions_onehot = te.transform(transactions)\n",
        "transactions_onehot"
      ],
      "metadata": {
        "colab": {
          "base_uri": "https://localhost:8080/"
        },
        "id": "yYcE2F-zsf-4",
        "outputId": "a4637533-738f-4836-9bd5-2d023353afad"
      },
      "execution_count": 210,
      "outputs": [
        {
          "output_type": "execute_result",
          "data": {
            "text/plain": [
              "array([[ True,  True, False, ...,  True, False, False],\n",
              "       [False, False, False, ..., False, False, False],\n",
              "       [False, False, False, ..., False, False, False],\n",
              "       ...,\n",
              "       [False, False, False, ..., False, False, False],\n",
              "       [False, False, False, ..., False, False, False],\n",
              "       [False, False, False, ..., False,  True, False]])"
            ]
          },
          "metadata": {},
          "execution_count": 210
        }
      ]
    },
    {
      "cell_type": "markdown",
      "source": [
        "Переведём данные обратно в датафрейм"
      ],
      "metadata": {
        "id": "wrtEO7g5sgkK"
      }
    },
    {
      "cell_type": "code",
      "source": [
        "df = pd.DataFrame(transactions_onehot, columns=te.columns_)\n",
        "df.head(3)"
      ],
      "metadata": {
        "colab": {
          "base_uri": "https://localhost:8080/",
          "height": 271
        },
        "id": "X9JmKLZKsjCq",
        "outputId": "58078fe7-e775-4921-ab7c-6345abc6f649"
      },
      "execution_count": 211,
      "outputs": [
        {
          "output_type": "execute_result",
          "data": {
            "text/plain": [
              "   almonds  antioxydant juice  asparagus  avocado  babies food  bacon  \\\n",
              "0     True               True      False     True        False  False   \n",
              "1    False              False      False    False        False  False   \n",
              "2    False              False      False    False        False  False   \n",
              "\n",
              "   barbecue sauce  black tea  blueberries  body spray  ...  turkey  \\\n",
              "0           False      False        False       False  ...   False   \n",
              "1           False      False        False       False  ...   False   \n",
              "2           False      False        False       False  ...   False   \n",
              "\n",
              "   vegetables mix  water spray  white wine  whole weat flour  \\\n",
              "0            True        False       False              True   \n",
              "1           False        False       False             False   \n",
              "2           False        False       False             False   \n",
              "\n",
              "   whole wheat pasta  whole wheat rice   yams  yogurt cake  zucchini  \n",
              "0              False             False   True        False     False  \n",
              "1              False             False  False        False     False  \n",
              "2              False             False  False        False     False  \n",
              "\n",
              "[3 rows x 119 columns]"
            ],
            "text/html": [
              "\n",
              "  <div id=\"df-d516033c-da9e-4fd8-a37a-4f80538fd2cc\">\n",
              "    <div class=\"colab-df-container\">\n",
              "      <div>\n",
              "<style scoped>\n",
              "    .dataframe tbody tr th:only-of-type {\n",
              "        vertical-align: middle;\n",
              "    }\n",
              "\n",
              "    .dataframe tbody tr th {\n",
              "        vertical-align: top;\n",
              "    }\n",
              "\n",
              "    .dataframe thead th {\n",
              "        text-align: right;\n",
              "    }\n",
              "</style>\n",
              "<table border=\"1\" class=\"dataframe\">\n",
              "  <thead>\n",
              "    <tr style=\"text-align: right;\">\n",
              "      <th></th>\n",
              "      <th>almonds</th>\n",
              "      <th>antioxydant juice</th>\n",
              "      <th>asparagus</th>\n",
              "      <th>avocado</th>\n",
              "      <th>babies food</th>\n",
              "      <th>bacon</th>\n",
              "      <th>barbecue sauce</th>\n",
              "      <th>black tea</th>\n",
              "      <th>blueberries</th>\n",
              "      <th>body spray</th>\n",
              "      <th>...</th>\n",
              "      <th>turkey</th>\n",
              "      <th>vegetables mix</th>\n",
              "      <th>water spray</th>\n",
              "      <th>white wine</th>\n",
              "      <th>whole weat flour</th>\n",
              "      <th>whole wheat pasta</th>\n",
              "      <th>whole wheat rice</th>\n",
              "      <th>yams</th>\n",
              "      <th>yogurt cake</th>\n",
              "      <th>zucchini</th>\n",
              "    </tr>\n",
              "  </thead>\n",
              "  <tbody>\n",
              "    <tr>\n",
              "      <th>0</th>\n",
              "      <td>True</td>\n",
              "      <td>True</td>\n",
              "      <td>False</td>\n",
              "      <td>True</td>\n",
              "      <td>False</td>\n",
              "      <td>False</td>\n",
              "      <td>False</td>\n",
              "      <td>False</td>\n",
              "      <td>False</td>\n",
              "      <td>False</td>\n",
              "      <td>...</td>\n",
              "      <td>False</td>\n",
              "      <td>True</td>\n",
              "      <td>False</td>\n",
              "      <td>False</td>\n",
              "      <td>True</td>\n",
              "      <td>False</td>\n",
              "      <td>False</td>\n",
              "      <td>True</td>\n",
              "      <td>False</td>\n",
              "      <td>False</td>\n",
              "    </tr>\n",
              "    <tr>\n",
              "      <th>1</th>\n",
              "      <td>False</td>\n",
              "      <td>False</td>\n",
              "      <td>False</td>\n",
              "      <td>False</td>\n",
              "      <td>False</td>\n",
              "      <td>False</td>\n",
              "      <td>False</td>\n",
              "      <td>False</td>\n",
              "      <td>False</td>\n",
              "      <td>False</td>\n",
              "      <td>...</td>\n",
              "      <td>False</td>\n",
              "      <td>False</td>\n",
              "      <td>False</td>\n",
              "      <td>False</td>\n",
              "      <td>False</td>\n",
              "      <td>False</td>\n",
              "      <td>False</td>\n",
              "      <td>False</td>\n",
              "      <td>False</td>\n",
              "      <td>False</td>\n",
              "    </tr>\n",
              "    <tr>\n",
              "      <th>2</th>\n",
              "      <td>False</td>\n",
              "      <td>False</td>\n",
              "      <td>False</td>\n",
              "      <td>False</td>\n",
              "      <td>False</td>\n",
              "      <td>False</td>\n",
              "      <td>False</td>\n",
              "      <td>False</td>\n",
              "      <td>False</td>\n",
              "      <td>False</td>\n",
              "      <td>...</td>\n",
              "      <td>False</td>\n",
              "      <td>False</td>\n",
              "      <td>False</td>\n",
              "      <td>False</td>\n",
              "      <td>False</td>\n",
              "      <td>False</td>\n",
              "      <td>False</td>\n",
              "      <td>False</td>\n",
              "      <td>False</td>\n",
              "      <td>False</td>\n",
              "    </tr>\n",
              "  </tbody>\n",
              "</table>\n",
              "<p>3 rows × 119 columns</p>\n",
              "</div>\n",
              "      <button class=\"colab-df-convert\" onclick=\"convertToInteractive('df-d516033c-da9e-4fd8-a37a-4f80538fd2cc')\"\n",
              "              title=\"Convert this dataframe to an interactive table.\"\n",
              "              style=\"display:none;\">\n",
              "        \n",
              "  <svg xmlns=\"http://www.w3.org/2000/svg\" height=\"24px\"viewBox=\"0 0 24 24\"\n",
              "       width=\"24px\">\n",
              "    <path d=\"M0 0h24v24H0V0z\" fill=\"none\"/>\n",
              "    <path d=\"M18.56 5.44l.94 2.06.94-2.06 2.06-.94-2.06-.94-.94-2.06-.94 2.06-2.06.94zm-11 1L8.5 8.5l.94-2.06 2.06-.94-2.06-.94L8.5 2.5l-.94 2.06-2.06.94zm10 10l.94 2.06.94-2.06 2.06-.94-2.06-.94-.94-2.06-.94 2.06-2.06.94z\"/><path d=\"M17.41 7.96l-1.37-1.37c-.4-.4-.92-.59-1.43-.59-.52 0-1.04.2-1.43.59L10.3 9.45l-7.72 7.72c-.78.78-.78 2.05 0 2.83L4 21.41c.39.39.9.59 1.41.59.51 0 1.02-.2 1.41-.59l7.78-7.78 2.81-2.81c.8-.78.8-2.07 0-2.86zM5.41 20L4 18.59l7.72-7.72 1.47 1.35L5.41 20z\"/>\n",
              "  </svg>\n",
              "      </button>\n",
              "      \n",
              "  <style>\n",
              "    .colab-df-container {\n",
              "      display:flex;\n",
              "      flex-wrap:wrap;\n",
              "      gap: 12px;\n",
              "    }\n",
              "\n",
              "    .colab-df-convert {\n",
              "      background-color: #E8F0FE;\n",
              "      border: none;\n",
              "      border-radius: 50%;\n",
              "      cursor: pointer;\n",
              "      display: none;\n",
              "      fill: #1967D2;\n",
              "      height: 32px;\n",
              "      padding: 0 0 0 0;\n",
              "      width: 32px;\n",
              "    }\n",
              "\n",
              "    .colab-df-convert:hover {\n",
              "      background-color: #E2EBFA;\n",
              "      box-shadow: 0px 1px 2px rgba(60, 64, 67, 0.3), 0px 1px 3px 1px rgba(60, 64, 67, 0.15);\n",
              "      fill: #174EA6;\n",
              "    }\n",
              "\n",
              "    [theme=dark] .colab-df-convert {\n",
              "      background-color: #3B4455;\n",
              "      fill: #D2E3FC;\n",
              "    }\n",
              "\n",
              "    [theme=dark] .colab-df-convert:hover {\n",
              "      background-color: #434B5C;\n",
              "      box-shadow: 0px 1px 3px 1px rgba(0, 0, 0, 0.15);\n",
              "      filter: drop-shadow(0px 1px 2px rgba(0, 0, 0, 0.3));\n",
              "      fill: #FFFFFF;\n",
              "    }\n",
              "  </style>\n",
              "\n",
              "      <script>\n",
              "        const buttonEl =\n",
              "          document.querySelector('#df-d516033c-da9e-4fd8-a37a-4f80538fd2cc button.colab-df-convert');\n",
              "        buttonEl.style.display =\n",
              "          google.colab.kernel.accessAllowed ? 'block' : 'none';\n",
              "\n",
              "        async function convertToInteractive(key) {\n",
              "          const element = document.querySelector('#df-d516033c-da9e-4fd8-a37a-4f80538fd2cc');\n",
              "          const dataTable =\n",
              "            await google.colab.kernel.invokeFunction('convertToInteractive',\n",
              "                                                     [key], {});\n",
              "          if (!dataTable) return;\n",
              "\n",
              "          const docLinkHtml = 'Like what you see? Visit the ' +\n",
              "            '<a target=\"_blank\" href=https://colab.research.google.com/notebooks/data_table.ipynb>data table notebook</a>'\n",
              "            + ' to learn more about interactive tables.';\n",
              "          element.innerHTML = '';\n",
              "          dataTable['output_type'] = 'display_data';\n",
              "          await google.colab.output.renderOutput(dataTable, element);\n",
              "          const docLink = document.createElement('div');\n",
              "          docLink.innerHTML = docLinkHtml;\n",
              "          element.appendChild(docLink);\n",
              "        }\n",
              "      </script>\n",
              "    </div>\n",
              "  </div>\n",
              "  "
            ]
          },
          "metadata": {},
          "execution_count": 211
        }
      ]
    },
    {
      "cell_type": "markdown",
      "source": [
        "Загрузим в apriori"
      ],
      "metadata": {
        "id": "0Vs4gjRUqJmH"
      }
    },
    {
      "cell_type": "markdown",
      "source": [
        "- min_support -- минимальный support для правил (dtype = float)."
      ],
      "metadata": {
        "id": "Mk6iXClyqSqA"
      }
    },
    {
      "cell_type": "code",
      "source": [
        "frequent_itemsets = apriori(df, min_support=0.05, use_colnames=True)\n",
        "frequent_itemsets.head(5)"
      ],
      "metadata": {
        "colab": {
          "base_uri": "https://localhost:8080/",
          "height": 206
        },
        "id": "qZTpduiortRB",
        "outputId": "fc14db5c-b4f8-47e6-8848-8fb0daff31f6"
      },
      "execution_count": 212,
      "outputs": [
        {
          "output_type": "execute_result",
          "data": {
            "text/plain": [
              "    support     itemsets\n",
              "0  0.087188    (burgers)\n",
              "1  0.081056       (cake)\n",
              "2  0.059992    (chicken)\n",
              "3  0.163845  (chocolate)\n",
              "4  0.080389    (cookies)"
            ],
            "text/html": [
              "\n",
              "  <div id=\"df-1d83a476-7495-4da2-b80a-b614f631d03b\">\n",
              "    <div class=\"colab-df-container\">\n",
              "      <div>\n",
              "<style scoped>\n",
              "    .dataframe tbody tr th:only-of-type {\n",
              "        vertical-align: middle;\n",
              "    }\n",
              "\n",
              "    .dataframe tbody tr th {\n",
              "        vertical-align: top;\n",
              "    }\n",
              "\n",
              "    .dataframe thead th {\n",
              "        text-align: right;\n",
              "    }\n",
              "</style>\n",
              "<table border=\"1\" class=\"dataframe\">\n",
              "  <thead>\n",
              "    <tr style=\"text-align: right;\">\n",
              "      <th></th>\n",
              "      <th>support</th>\n",
              "      <th>itemsets</th>\n",
              "    </tr>\n",
              "  </thead>\n",
              "  <tbody>\n",
              "    <tr>\n",
              "      <th>0</th>\n",
              "      <td>0.087188</td>\n",
              "      <td>(burgers)</td>\n",
              "    </tr>\n",
              "    <tr>\n",
              "      <th>1</th>\n",
              "      <td>0.081056</td>\n",
              "      <td>(cake)</td>\n",
              "    </tr>\n",
              "    <tr>\n",
              "      <th>2</th>\n",
              "      <td>0.059992</td>\n",
              "      <td>(chicken)</td>\n",
              "    </tr>\n",
              "    <tr>\n",
              "      <th>3</th>\n",
              "      <td>0.163845</td>\n",
              "      <td>(chocolate)</td>\n",
              "    </tr>\n",
              "    <tr>\n",
              "      <th>4</th>\n",
              "      <td>0.080389</td>\n",
              "      <td>(cookies)</td>\n",
              "    </tr>\n",
              "  </tbody>\n",
              "</table>\n",
              "</div>\n",
              "      <button class=\"colab-df-convert\" onclick=\"convertToInteractive('df-1d83a476-7495-4da2-b80a-b614f631d03b')\"\n",
              "              title=\"Convert this dataframe to an interactive table.\"\n",
              "              style=\"display:none;\">\n",
              "        \n",
              "  <svg xmlns=\"http://www.w3.org/2000/svg\" height=\"24px\"viewBox=\"0 0 24 24\"\n",
              "       width=\"24px\">\n",
              "    <path d=\"M0 0h24v24H0V0z\" fill=\"none\"/>\n",
              "    <path d=\"M18.56 5.44l.94 2.06.94-2.06 2.06-.94-2.06-.94-.94-2.06-.94 2.06-2.06.94zm-11 1L8.5 8.5l.94-2.06 2.06-.94-2.06-.94L8.5 2.5l-.94 2.06-2.06.94zm10 10l.94 2.06.94-2.06 2.06-.94-2.06-.94-.94-2.06-.94 2.06-2.06.94z\"/><path d=\"M17.41 7.96l-1.37-1.37c-.4-.4-.92-.59-1.43-.59-.52 0-1.04.2-1.43.59L10.3 9.45l-7.72 7.72c-.78.78-.78 2.05 0 2.83L4 21.41c.39.39.9.59 1.41.59.51 0 1.02-.2 1.41-.59l7.78-7.78 2.81-2.81c.8-.78.8-2.07 0-2.86zM5.41 20L4 18.59l7.72-7.72 1.47 1.35L5.41 20z\"/>\n",
              "  </svg>\n",
              "      </button>\n",
              "      \n",
              "  <style>\n",
              "    .colab-df-container {\n",
              "      display:flex;\n",
              "      flex-wrap:wrap;\n",
              "      gap: 12px;\n",
              "    }\n",
              "\n",
              "    .colab-df-convert {\n",
              "      background-color: #E8F0FE;\n",
              "      border: none;\n",
              "      border-radius: 50%;\n",
              "      cursor: pointer;\n",
              "      display: none;\n",
              "      fill: #1967D2;\n",
              "      height: 32px;\n",
              "      padding: 0 0 0 0;\n",
              "      width: 32px;\n",
              "    }\n",
              "\n",
              "    .colab-df-convert:hover {\n",
              "      background-color: #E2EBFA;\n",
              "      box-shadow: 0px 1px 2px rgba(60, 64, 67, 0.3), 0px 1px 3px 1px rgba(60, 64, 67, 0.15);\n",
              "      fill: #174EA6;\n",
              "    }\n",
              "\n",
              "    [theme=dark] .colab-df-convert {\n",
              "      background-color: #3B4455;\n",
              "      fill: #D2E3FC;\n",
              "    }\n",
              "\n",
              "    [theme=dark] .colab-df-convert:hover {\n",
              "      background-color: #434B5C;\n",
              "      box-shadow: 0px 1px 3px 1px rgba(0, 0, 0, 0.15);\n",
              "      filter: drop-shadow(0px 1px 2px rgba(0, 0, 0, 0.3));\n",
              "      fill: #FFFFFF;\n",
              "    }\n",
              "  </style>\n",
              "\n",
              "      <script>\n",
              "        const buttonEl =\n",
              "          document.querySelector('#df-1d83a476-7495-4da2-b80a-b614f631d03b button.colab-df-convert');\n",
              "        buttonEl.style.display =\n",
              "          google.colab.kernel.accessAllowed ? 'block' : 'none';\n",
              "\n",
              "        async function convertToInteractive(key) {\n",
              "          const element = document.querySelector('#df-1d83a476-7495-4da2-b80a-b614f631d03b');\n",
              "          const dataTable =\n",
              "            await google.colab.kernel.invokeFunction('convertToInteractive',\n",
              "                                                     [key], {});\n",
              "          if (!dataTable) return;\n",
              "\n",
              "          const docLinkHtml = 'Like what you see? Visit the ' +\n",
              "            '<a target=\"_blank\" href=https://colab.research.google.com/notebooks/data_table.ipynb>data table notebook</a>'\n",
              "            + ' to learn more about interactive tables.';\n",
              "          element.innerHTML = '';\n",
              "          dataTable['output_type'] = 'display_data';\n",
              "          await google.colab.output.renderOutput(dataTable, element);\n",
              "          const docLink = document.createElement('div');\n",
              "          docLink.innerHTML = docLinkHtml;\n",
              "          element.appendChild(docLink);\n",
              "        }\n",
              "      </script>\n",
              "    </div>\n",
              "  </div>\n",
              "  "
            ]
          },
          "metadata": {},
          "execution_count": 212
        }
      ]
    },
    {
      "cell_type": "markdown",
      "source": [
        "В нашем случае получилось найти больше половины сочетающихся элементов при значении минимального support 0.05"
      ],
      "metadata": {
        "id": "tEXEe6slTDqp"
      }
    },
    {
      "cell_type": "code",
      "source": [
        "association_rules(frequent_itemsets, metric=\"confidence\", min_threshold=0.05)"
      ],
      "metadata": {
        "colab": {
          "base_uri": "https://localhost:8080/",
          "height": 237
        },
        "id": "hG_Hqq_Ks-ts",
        "outputId": "1dee6113-5b73-41e7-f440-62763fbc5016"
      },
      "execution_count": 213,
      "outputs": [
        {
          "output_type": "execute_result",
          "data": {
            "text/plain": [
              "       antecedents      consequents  antecedent support  consequent support  \\\n",
              "0      (chocolate)  (mineral water)            0.163845            0.238368   \n",
              "1  (mineral water)      (chocolate)            0.238368            0.163845   \n",
              "2  (mineral water)           (eggs)            0.238368            0.179709   \n",
              "3           (eggs)  (mineral water)            0.179709            0.238368   \n",
              "4  (mineral water)      (spaghetti)            0.238368            0.174110   \n",
              "5      (spaghetti)  (mineral water)            0.174110            0.238368   \n",
              "\n",
              "    support  confidence      lift  leverage  conviction  \n",
              "0  0.052660    0.321400  1.348332  0.013604    1.122357  \n",
              "1  0.052660    0.220917  1.348332  0.013604    1.073256  \n",
              "2  0.050927    0.213647  1.188845  0.008090    1.043158  \n",
              "3  0.050927    0.283383  1.188845  0.008090    1.062815  \n",
              "4  0.059725    0.250559  1.439085  0.018223    1.102008  \n",
              "5  0.059725    0.343032  1.439085  0.018223    1.159314  "
            ],
            "text/html": [
              "\n",
              "  <div id=\"df-de8ab899-7e70-4fa2-8659-14c0bc5d868a\">\n",
              "    <div class=\"colab-df-container\">\n",
              "      <div>\n",
              "<style scoped>\n",
              "    .dataframe tbody tr th:only-of-type {\n",
              "        vertical-align: middle;\n",
              "    }\n",
              "\n",
              "    .dataframe tbody tr th {\n",
              "        vertical-align: top;\n",
              "    }\n",
              "\n",
              "    .dataframe thead th {\n",
              "        text-align: right;\n",
              "    }\n",
              "</style>\n",
              "<table border=\"1\" class=\"dataframe\">\n",
              "  <thead>\n",
              "    <tr style=\"text-align: right;\">\n",
              "      <th></th>\n",
              "      <th>antecedents</th>\n",
              "      <th>consequents</th>\n",
              "      <th>antecedent support</th>\n",
              "      <th>consequent support</th>\n",
              "      <th>support</th>\n",
              "      <th>confidence</th>\n",
              "      <th>lift</th>\n",
              "      <th>leverage</th>\n",
              "      <th>conviction</th>\n",
              "    </tr>\n",
              "  </thead>\n",
              "  <tbody>\n",
              "    <tr>\n",
              "      <th>0</th>\n",
              "      <td>(chocolate)</td>\n",
              "      <td>(mineral water)</td>\n",
              "      <td>0.163845</td>\n",
              "      <td>0.238368</td>\n",
              "      <td>0.052660</td>\n",
              "      <td>0.321400</td>\n",
              "      <td>1.348332</td>\n",
              "      <td>0.013604</td>\n",
              "      <td>1.122357</td>\n",
              "    </tr>\n",
              "    <tr>\n",
              "      <th>1</th>\n",
              "      <td>(mineral water)</td>\n",
              "      <td>(chocolate)</td>\n",
              "      <td>0.238368</td>\n",
              "      <td>0.163845</td>\n",
              "      <td>0.052660</td>\n",
              "      <td>0.220917</td>\n",
              "      <td>1.348332</td>\n",
              "      <td>0.013604</td>\n",
              "      <td>1.073256</td>\n",
              "    </tr>\n",
              "    <tr>\n",
              "      <th>2</th>\n",
              "      <td>(mineral water)</td>\n",
              "      <td>(eggs)</td>\n",
              "      <td>0.238368</td>\n",
              "      <td>0.179709</td>\n",
              "      <td>0.050927</td>\n",
              "      <td>0.213647</td>\n",
              "      <td>1.188845</td>\n",
              "      <td>0.008090</td>\n",
              "      <td>1.043158</td>\n",
              "    </tr>\n",
              "    <tr>\n",
              "      <th>3</th>\n",
              "      <td>(eggs)</td>\n",
              "      <td>(mineral water)</td>\n",
              "      <td>0.179709</td>\n",
              "      <td>0.238368</td>\n",
              "      <td>0.050927</td>\n",
              "      <td>0.283383</td>\n",
              "      <td>1.188845</td>\n",
              "      <td>0.008090</td>\n",
              "      <td>1.062815</td>\n",
              "    </tr>\n",
              "    <tr>\n",
              "      <th>4</th>\n",
              "      <td>(mineral water)</td>\n",
              "      <td>(spaghetti)</td>\n",
              "      <td>0.238368</td>\n",
              "      <td>0.174110</td>\n",
              "      <td>0.059725</td>\n",
              "      <td>0.250559</td>\n",
              "      <td>1.439085</td>\n",
              "      <td>0.018223</td>\n",
              "      <td>1.102008</td>\n",
              "    </tr>\n",
              "    <tr>\n",
              "      <th>5</th>\n",
              "      <td>(spaghetti)</td>\n",
              "      <td>(mineral water)</td>\n",
              "      <td>0.174110</td>\n",
              "      <td>0.238368</td>\n",
              "      <td>0.059725</td>\n",
              "      <td>0.343032</td>\n",
              "      <td>1.439085</td>\n",
              "      <td>0.018223</td>\n",
              "      <td>1.159314</td>\n",
              "    </tr>\n",
              "  </tbody>\n",
              "</table>\n",
              "</div>\n",
              "      <button class=\"colab-df-convert\" onclick=\"convertToInteractive('df-de8ab899-7e70-4fa2-8659-14c0bc5d868a')\"\n",
              "              title=\"Convert this dataframe to an interactive table.\"\n",
              "              style=\"display:none;\">\n",
              "        \n",
              "  <svg xmlns=\"http://www.w3.org/2000/svg\" height=\"24px\"viewBox=\"0 0 24 24\"\n",
              "       width=\"24px\">\n",
              "    <path d=\"M0 0h24v24H0V0z\" fill=\"none\"/>\n",
              "    <path d=\"M18.56 5.44l.94 2.06.94-2.06 2.06-.94-2.06-.94-.94-2.06-.94 2.06-2.06.94zm-11 1L8.5 8.5l.94-2.06 2.06-.94-2.06-.94L8.5 2.5l-.94 2.06-2.06.94zm10 10l.94 2.06.94-2.06 2.06-.94-2.06-.94-.94-2.06-.94 2.06-2.06.94z\"/><path d=\"M17.41 7.96l-1.37-1.37c-.4-.4-.92-.59-1.43-.59-.52 0-1.04.2-1.43.59L10.3 9.45l-7.72 7.72c-.78.78-.78 2.05 0 2.83L4 21.41c.39.39.9.59 1.41.59.51 0 1.02-.2 1.41-.59l7.78-7.78 2.81-2.81c.8-.78.8-2.07 0-2.86zM5.41 20L4 18.59l7.72-7.72 1.47 1.35L5.41 20z\"/>\n",
              "  </svg>\n",
              "      </button>\n",
              "      \n",
              "  <style>\n",
              "    .colab-df-container {\n",
              "      display:flex;\n",
              "      flex-wrap:wrap;\n",
              "      gap: 12px;\n",
              "    }\n",
              "\n",
              "    .colab-df-convert {\n",
              "      background-color: #E8F0FE;\n",
              "      border: none;\n",
              "      border-radius: 50%;\n",
              "      cursor: pointer;\n",
              "      display: none;\n",
              "      fill: #1967D2;\n",
              "      height: 32px;\n",
              "      padding: 0 0 0 0;\n",
              "      width: 32px;\n",
              "    }\n",
              "\n",
              "    .colab-df-convert:hover {\n",
              "      background-color: #E2EBFA;\n",
              "      box-shadow: 0px 1px 2px rgba(60, 64, 67, 0.3), 0px 1px 3px 1px rgba(60, 64, 67, 0.15);\n",
              "      fill: #174EA6;\n",
              "    }\n",
              "\n",
              "    [theme=dark] .colab-df-convert {\n",
              "      background-color: #3B4455;\n",
              "      fill: #D2E3FC;\n",
              "    }\n",
              "\n",
              "    [theme=dark] .colab-df-convert:hover {\n",
              "      background-color: #434B5C;\n",
              "      box-shadow: 0px 1px 3px 1px rgba(0, 0, 0, 0.15);\n",
              "      filter: drop-shadow(0px 1px 2px rgba(0, 0, 0, 0.3));\n",
              "      fill: #FFFFFF;\n",
              "    }\n",
              "  </style>\n",
              "\n",
              "      <script>\n",
              "        const buttonEl =\n",
              "          document.querySelector('#df-de8ab899-7e70-4fa2-8659-14c0bc5d868a button.colab-df-convert');\n",
              "        buttonEl.style.display =\n",
              "          google.colab.kernel.accessAllowed ? 'block' : 'none';\n",
              "\n",
              "        async function convertToInteractive(key) {\n",
              "          const element = document.querySelector('#df-de8ab899-7e70-4fa2-8659-14c0bc5d868a');\n",
              "          const dataTable =\n",
              "            await google.colab.kernel.invokeFunction('convertToInteractive',\n",
              "                                                     [key], {});\n",
              "          if (!dataTable) return;\n",
              "\n",
              "          const docLinkHtml = 'Like what you see? Visit the ' +\n",
              "            '<a target=\"_blank\" href=https://colab.research.google.com/notebooks/data_table.ipynb>data table notebook</a>'\n",
              "            + ' to learn more about interactive tables.';\n",
              "          element.innerHTML = '';\n",
              "          dataTable['output_type'] = 'display_data';\n",
              "          await google.colab.output.renderOutput(dataTable, element);\n",
              "          const docLink = document.createElement('div');\n",
              "          docLink.innerHTML = docLinkHtml;\n",
              "          element.appendChild(docLink);\n",
              "        }\n",
              "      </script>\n",
              "    </div>\n",
              "  </div>\n",
              "  "
            ]
          },
          "metadata": {},
          "execution_count": 213
        }
      ]
    },
    {
      "cell_type": "markdown",
      "source": [
        "- antecedent_support - частота набора продуктов из левой части правила A\n",
        "- consequent_support - частота набора продуктов из правой части правила B"
      ],
      "metadata": {
        "id": "EaapKZ6AtHJr"
      }
    },
    {
      "cell_type": "markdown",
      "source": [
        "\n",
        "Суть метрики Conviction - как соотносится популярность других товаров (не B) с частотой ситуации когда наше правило не срабатывает:\n",
        "- Если conv = 1, то правило бесполезно. Правило ошибается столько же, сколько покупатели выбирают другие товары\n",
        "- Если conv > 1, то правило хорошо выделяет закономерность\n",
        "- Если conv < 1, то правило не просто плохо работает, а выделяет антипаттерн (что никогда не покупают вместе) и в этом случае можно также воспользоваться для поиска несовместимых предметов и продуктов"
      ],
      "metadata": {
        "id": "7zh4n7gXtOHz"
      }
    },
    {
      "cell_type": "markdown",
      "source": [
        "Расмотрим правило: (chocolate) => (mineral water).\n",
        "\n",
        "Прочитаем характеристики данного правила:\n",
        "- В 53% чеков встречаются шоколад и минералка (support=0.5266)\n",
        "- 32% тех, кто купил яйца, также шоколад и минералку (confidence=0.321400)\n",
        "- Купившие шоколад покупают минералку на 34% чаще, чем все остальные покупатели (lift=1.348332)\n",
        "- Купившие шоколад покупают другие продукты на 12% реже, чем просто покупающие другие продукты"
      ],
      "metadata": {
        "id": "o8gDLFCztf1c"
      }
    },
    {
      "cell_type": "markdown",
      "source": [
        "Кроме apriori используются и другие алгоритмы:\n",
        "- Eclat algorithm\n",
        "- FP-Growth algorithm\n",
        "- One-attribute-rule\n",
        "- Zero-attribute-rule"
      ],
      "metadata": {
        "id": "rKpLqhAy3dSv"
      }
    },
    {
      "cell_type": "markdown",
      "source": [
        "#FP Деревья"
      ],
      "metadata": {
        "id": "1_WrQ4ye0fIy"
      }
    },
    {
      "cell_type": "markdown",
      "source": [
        "- FP-деревья также является алгоритмом для поиска ассоциативных правил.\n",
        "- Он является оптимизацией Apriori"
      ],
      "metadata": {
        "id": "YCZh8Xbr0dOr"
      }
    },
    {
      "cell_type": "markdown",
      "source": [
        "Устанавливаем библиотеки"
      ],
      "metadata": {
        "id": "J9z-2BYKVYPk"
      }
    },
    {
      "cell_type": "code",
      "source": [
        "!pip install pyfpgrowth"
      ],
      "metadata": {
        "colab": {
          "base_uri": "https://localhost:8080/"
        },
        "id": "EaT9Rq_p1BCm",
        "outputId": "3563f833-1fb1-4a95-a6c2-6c6f550f2459"
      },
      "execution_count": 217,
      "outputs": [
        {
          "output_type": "stream",
          "name": "stdout",
          "text": [
            "Looking in indexes: https://pypi.org/simple, https://us-python.pkg.dev/colab-wheels/public/simple/\n",
            "Requirement already satisfied: pyfpgrowth in /usr/local/lib/python3.7/dist-packages (1.0)\n"
          ]
        }
      ]
    },
    {
      "cell_type": "code",
      "source": [
        "import pyfpgrowth"
      ],
      "metadata": {
        "id": "hBKBBYJl18cZ"
      },
      "execution_count": 218,
      "outputs": []
    },
    {
      "cell_type": "markdown",
      "source": [
        "- найдём все правила, которые встречаются не менее 5 раз\n",
        "- найдём все следствия из правил, которые происходят не реже чем в 50% случаев"
      ],
      "metadata": {
        "id": "E6tSxG-WVdwT"
      }
    },
    {
      "cell_type": "markdown",
      "source": [
        "Предупреждение: для данных такого размера алгоритм будет работать долго"
      ],
      "metadata": {
        "id": "gRZt0curVyWi"
      }
    },
    {
      "cell_type": "markdown",
      "source": [
        "Из-за этого ограничимся 50 элементами"
      ],
      "metadata": {
        "id": "6zowhMlCWKBV"
      }
    },
    {
      "cell_type": "code",
      "source": [
        "patterns = pyfpgrowth.find_frequent_patterns(transactions[:50], 5)\n",
        "rules = pyfpgrowth.generate_association_rules(patterns, 0.5)"
      ],
      "metadata": {
        "id": "rhIZT39G0qB0"
      },
      "execution_count": 228,
      "outputs": []
    },
    {
      "cell_type": "code",
      "source": [
        "patterns"
      ],
      "metadata": {
        "id": "ccXFX4nM0x0T",
        "colab": {
          "base_uri": "https://localhost:8080/"
        },
        "outputId": "0e8e99cf-0383-4890-bb64-b8ba23a43d4d"
      },
      "execution_count": 229,
      "outputs": [
        {
          "output_type": "execute_result",
          "data": {
            "text/plain": [
              "{('avocado', 'avocado'): 171,\n",
              " ('avocado', 'avocado', 'avocado'): 969,\n",
              " ('avocado', 'avocado', 'turkey'): 171,\n",
              " ('avocado', 'eggs'): 17,\n",
              " ('avocado', 'eggs', 'eggs'): 136,\n",
              " ('avocado', 'fresh bread'): 15,\n",
              " ('avocado', 'fresh bread', 'fresh bread'): 105,\n",
              " ('avocado', 'fresh bread', 'fresh bread', 'spaghetti'): 105,\n",
              " ('avocado', 'fresh bread', 'spaghetti'): 15,\n",
              " ('avocado', 'green tea'): 14,\n",
              " ('avocado', 'green tea', 'green tea'): 78,\n",
              " ('avocado', 'muffins'): 19,\n",
              " ('avocado', 'muffins', 'muffins'): 171,\n",
              " ('avocado', 'toothpaste'): 13,\n",
              " ('avocado', 'toothpaste', 'toothpaste'): 78,\n",
              " ('avocado', 'turkey'): 19,\n",
              " ('bug spray', 'bug spray'): 171,\n",
              " ('bug spray', 'bug spray', 'bug spray'): 969,\n",
              " ('bug spray', 'bug spray', 'mineral water'): 171,\n",
              " ('bug spray', 'mineral water'): 19,\n",
              " ('chocolate', 'chocolate'): 153,\n",
              " ('chocolate', 'chocolate', 'chocolate'): 816,\n",
              " ('chocolate', 'eggs'): 19,\n",
              " ('chocolate', 'eggs', 'eggs'): 136,\n",
              " ('chocolate', 'eggs', 'french fries'): 16,\n",
              " ('chocolate', 'eggs', 'french fries', 'french fries'): 120,\n",
              " ('chocolate', 'eggs', 'shampoo'): 14,\n",
              " ('chocolate', 'eggs', 'shampoo', 'shampoo'): 91,\n",
              " ('chocolate', 'french fries', 'french fries'): 120,\n",
              " ('chocolate', 'french fries', 'french fries', 'french fries'): 560,\n",
              " ('chocolate', 'low fat yogurt'): 14,\n",
              " ('chocolate', 'low fat yogurt', 'low fat yogurt'): 91,\n",
              " ('chocolate', 'shampoo'): 14,\n",
              " ('chocolate', 'shampoo', 'shampoo'): 91,\n",
              " ('chutney',): 20,\n",
              " ('chutney', 'chutney'): 190,\n",
              " ('clothes accessories', 'clothes accessories'): 136,\n",
              " ('clothes accessories', 'clothes accessories', 'clothes accessories'): 680,\n",
              " ('clothes accessories', 'clothes accessories', 'mineral water'): 136,\n",
              " ('clothes accessories', 'mineral water'): 17,\n",
              " ('cookies',): 58,\n",
              " ('cookies', 'cookies'): 533,\n",
              " ('cookies', 'cookies', 'spaghetti'): 153,\n",
              " ('cookies', 'spaghetti'): 18,\n",
              " ('cooking oil', 'cooking oil'): 120,\n",
              " ('cooking oil', 'cooking oil', 'cooking oil'): 560,\n",
              " ('cooking oil', 'cooking oil', 'cooking oil', 'eggs'): 560,\n",
              " ('cooking oil', 'cooking oil', 'cooking oil', 'turkey'): 560,\n",
              " ('cooking oil', 'cooking oil', 'eggs'): 120,\n",
              " ('cooking oil', 'cooking oil', 'eggs', 'mineral water'): 120,\n",
              " ('cooking oil', 'cooking oil', 'eggs', 'turkey'): 120,\n",
              " ('cooking oil', 'cooking oil', 'mineral water'): 120,\n",
              " ('cooking oil', 'cooking oil', 'turkey'): 120,\n",
              " ('cooking oil', 'eggs', 'mineral water'): 16,\n",
              " ('cooking oil', 'eggs', 'turkey'): 16,\n",
              " ('cooking oil', 'low fat yogurt'): 14,\n",
              " ('cooking oil', 'low fat yogurt', 'low fat yogurt'): 91,\n",
              " ('cooking oil', 'mineral water'): 16,\n",
              " ('cottage cheese', 'cottage cheese'): 153,\n",
              " ('cottage cheese', 'cottage cheese', 'cottage cheese'): 816,\n",
              " ('cottage cheese', 'cottage cheese', 'mineral water'): 153,\n",
              " ('cottage cheese', 'mineral water'): 19,\n",
              " ('eggs',): 79,\n",
              " ('eggs', 'eggs'): 650,\n",
              " ('eggs', 'eggs', 'mineral water'): 136,\n",
              " ('eggs', 'eggs', 'turkey'): 171,\n",
              " ('eggs', 'extra dark chocolate', 'extra dark chocolate'): 55,\n",
              " ('eggs',\n",
              "  'extra dark chocolate',\n",
              "  'extra dark chocolate',\n",
              "  'extra dark chocolate'): 165,\n",
              " ('eggs',\n",
              "  'extra dark chocolate',\n",
              "  'extra dark chocolate',\n",
              "  'extra dark chocolate',\n",
              "  'mineral water',\n",
              "  'salmon'): 165,\n",
              " ('eggs',\n",
              "  'extra dark chocolate',\n",
              "  'extra dark chocolate',\n",
              "  'extra dark chocolate',\n",
              "  'salmon'): 165,\n",
              " ('eggs',\n",
              "  'extra dark chocolate',\n",
              "  'extra dark chocolate',\n",
              "  'extra dark chocolate',\n",
              "  'spaghetti'): 165,\n",
              " ('eggs', 'extra dark chocolate', 'extra dark chocolate', 'mineral water'): 55,\n",
              " ('eggs',\n",
              "  'extra dark chocolate',\n",
              "  'extra dark chocolate',\n",
              "  'mineral water',\n",
              "  'salmon'): 55,\n",
              " ('eggs',\n",
              "  'extra dark chocolate',\n",
              "  'extra dark chocolate',\n",
              "  'mineral water',\n",
              "  'salmon',\n",
              "  'spaghetti'): 55,\n",
              " ('eggs',\n",
              "  'extra dark chocolate',\n",
              "  'extra dark chocolate',\n",
              "  'mineral water',\n",
              "  'spaghetti'): 55,\n",
              " ('eggs', 'extra dark chocolate', 'extra dark chocolate', 'salmon'): 55,\n",
              " ('eggs',\n",
              "  'extra dark chocolate',\n",
              "  'extra dark chocolate',\n",
              "  'salmon',\n",
              "  'spaghetti'): 55,\n",
              " ('eggs', 'extra dark chocolate', 'extra dark chocolate', 'spaghetti'): 55,\n",
              " ('eggs', 'extra dark chocolate', 'extra dark chocolate', 'turkey'): 55,\n",
              " ('eggs', 'extra dark chocolate', 'mineral water'): 11,\n",
              " ('eggs', 'extra dark chocolate', 'mineral water', 'salmon', 'spaghetti'): 11,\n",
              " ('eggs', 'extra dark chocolate', 'mineral water', 'spaghetti'): 11,\n",
              " ('eggs', 'extra dark chocolate', 'salmon', 'spaghetti'): 11,\n",
              " ('eggs', 'extra dark chocolate', 'turkey'): 11,\n",
              " ('eggs', 'french fries'): 16,\n",
              " ('eggs', 'french fries', 'french fries'): 120,\n",
              " ('eggs', 'french fries', 'french fries', 'mineral water'): 120,\n",
              " ('eggs', 'french fries', 'mineral water'): 16,\n",
              " ('eggs', 'mineral water'): 20,\n",
              " ('eggs', 'pet food'): 19,\n",
              " ('eggs', 'pet food', 'pet food'): 171,\n",
              " ('eggs', 'shampoo', 'shampoo'): 91,\n",
              " ('eggs', 'shampoo', 'shampoo', 'shampoo'): 364,\n",
              " ('eggs', 'turkey'): 21,\n",
              " ('escalope', 'escalope'): 470,\n",
              " ('escalope', 'escalope', 'escalope'): 2326,\n",
              " ('escalope', 'escalope', 'honey'): 78,\n",
              " ('escalope', 'escalope', 'mineral water'): 144,\n",
              " ('escalope', 'escalope', 'mineral water', 'salmon'): 66,\n",
              " ('escalope', 'escalope', 'mineral water', 'spaghetti'): 144,\n",
              " ('escalope', 'escalope', 'salmon'): 202,\n",
              " ('escalope', 'escalope', 'spaghetti'): 280,\n",
              " ('escalope', 'honey'): 13,\n",
              " ('escalope', 'mineral water'): 25,\n",
              " ('escalope', 'mineral water', 'salmon'): 12,\n",
              " ('escalope', 'mineral water', 'spaghetti'): 25,\n",
              " ('escalope', 'salmon'): 29,\n",
              " ('escalope', 'spaghetti'): 42,\n",
              " ('extra dark chocolate', 'extra dark chocolate'): 55,\n",
              " ('extra dark chocolate', 'extra dark chocolate', 'extra dark chocolate'): 165,\n",
              " ('extra dark chocolate',\n",
              "  'extra dark chocolate',\n",
              "  'extra dark chocolate',\n",
              "  'mineral water'): 165,\n",
              " ('extra dark chocolate',\n",
              "  'extra dark chocolate',\n",
              "  'extra dark chocolate',\n",
              "  'mineral water',\n",
              "  'salmon'): 165,\n",
              " ('extra dark chocolate',\n",
              "  'extra dark chocolate',\n",
              "  'extra dark chocolate',\n",
              "  'spaghetti'): 165,\n",
              " ('extra dark chocolate',\n",
              "  'extra dark chocolate',\n",
              "  'extra dark chocolate',\n",
              "  'turkey'): 165,\n",
              " ('extra dark chocolate', 'extra dark chocolate', 'mineral water'): 55,\n",
              " ('extra dark chocolate',\n",
              "  'extra dark chocolate',\n",
              "  'mineral water',\n",
              "  'salmon'): 55,\n",
              " ('extra dark chocolate',\n",
              "  'extra dark chocolate',\n",
              "  'mineral water',\n",
              "  'salmon',\n",
              "  'spaghetti'): 55,\n",
              " ('extra dark chocolate',\n",
              "  'extra dark chocolate',\n",
              "  'mineral water',\n",
              "  'spaghetti'): 55,\n",
              " ('extra dark chocolate', 'extra dark chocolate', 'salmon'): 55,\n",
              " ('extra dark chocolate', 'extra dark chocolate', 'salmon', 'spaghetti'): 55,\n",
              " ('extra dark chocolate', 'extra dark chocolate', 'spaghetti'): 55,\n",
              " ('extra dark chocolate', 'extra dark chocolate', 'turkey'): 55,\n",
              " ('extra dark chocolate', 'mineral water', 'salmon', 'spaghetti'): 11,\n",
              " ('extra dark chocolate', 'mineral water', 'spaghetti'): 11,\n",
              " ('extra dark chocolate', 'salmon'): 11,\n",
              " ('extra dark chocolate', 'salmon', 'spaghetti'): 11,\n",
              " ('french fries', 'french fries'): 652,\n",
              " ('french fries', 'french fries', 'french fries'): 3638,\n",
              " ('french fries', 'french fries', 'french fries', 'mineral water'): 560,\n",
              " ('french fries', 'french fries', 'mineral water'): 120,\n",
              " ('french fries', 'green tea'): 13,\n",
              " ('french fries', 'green tea', 'green tea'): 78,\n",
              " ('french fries', 'protein bar'): 16,\n",
              " ('french fries', 'protein bar', 'protein bar'): 120,\n",
              " ('french fries', 'strawberries'): 18,\n",
              " ('french fries', 'strawberries', 'strawberries'): 153,\n",
              " ('fresh bread', 'fresh bread'): 105,\n",
              " ('fresh bread', 'fresh bread', 'fresh bread'): 455,\n",
              " ('fresh bread', 'fresh bread', 'fresh bread', 'spaghetti'): 455,\n",
              " ('fresh bread', 'fresh bread', 'spaghetti'): 105,\n",
              " ('green tea',): 99,\n",
              " ('green tea', 'green tea'): 762,\n",
              " ('green tea', 'green tea', 'mineral water'): 225,\n",
              " ('green tea', 'green tea', 'mineral water', 'spaghetti'): 105,\n",
              " ('green tea', 'green tea', 'spaghetti'): 258,\n",
              " ('green tea', 'mineral water'): 32,\n",
              " ('green tea', 'mineral water', 'spaghetti'): 15,\n",
              " ('green tea', 'spaghetti'): 33,\n",
              " ('honey', 'low fat yogurt'): 15,\n",
              " ('honey', 'low fat yogurt', 'low fat yogurt'): 91,\n",
              " ('honey', 'protein bar'): 16,\n",
              " ('honey', 'protein bar', 'protein bar'): 120,\n",
              " ('honey', 'toothpaste'): 13,\n",
              " ('honey', 'toothpaste', 'toothpaste'): 78,\n",
              " ('low fat yogurt',): 35,\n",
              " ('low fat yogurt', 'low fat yogurt'): 281,\n",
              " ('magazines',): 17,\n",
              " ('magazines', 'magazines'): 136,\n",
              " ('mineral water', 'mineral water'): 479,\n",
              " ('mineral water', 'mineral water', 'mineral water'): 2636,\n",
              " ('mineral water', 'mineral water', 'mineral water', 'spaghetti'): 680,\n",
              " ('mineral water', 'mineral water', 'spaghetti'): 136,\n",
              " ('mineral water', 'salmon', 'salmon'): 171,\n",
              " ('mineral water', 'salmon', 'salmon', 'salmon'): 969,\n",
              " ('muffins', 'muffins'): 171,\n",
              " ('muffins', 'muffins', 'muffins'): 969,\n",
              " ('pet food', 'pet food'): 171,\n",
              " ('pet food', 'pet food', 'pet food'): 969,\n",
              " ('protein bar', 'protein bar'): 120,\n",
              " ('protein bar', 'protein bar', 'protein bar'): 560,\n",
              " ('salmon', 'salmon'): 171,\n",
              " ('salmon', 'salmon', 'salmon'): 969,\n",
              " ('shallot',): 18,\n",
              " ('shallot', 'shallot'): 153,\n",
              " ('shampoo', 'shampoo'): 91,\n",
              " ('shampoo', 'shampoo', 'shampoo'): 364,\n",
              " ('spaghetti', 'spaghetti'): 380,\n",
              " ('spaghetti', 'spaghetti', 'spaghetti'): 2280,\n",
              " ('sparkling water',): 56,\n",
              " ('sparkling water', 'sparkling water'): 497,\n",
              " ('strawberries', 'strawberries'): 153,\n",
              " ('strawberries', 'strawberries', 'strawberries'): 816,\n",
              " ('strawberries', 'strawberries', 'turkey'): 153,\n",
              " ('strawberries', 'turkey'): 18,\n",
              " ('toothpaste', 'toothpaste'): 78,\n",
              " ('toothpaste', 'toothpaste', 'toothpaste'): 286}"
            ]
          },
          "metadata": {},
          "execution_count": 229
        }
      ]
    },
    {
      "cell_type": "markdown",
      "source": [
        "Посмотрим теперь на ассоциативные правила, которые можно выделить среди таких паттернов"
      ],
      "metadata": {
        "id": "HIxfS5NG1GBU"
      }
    },
    {
      "cell_type": "code",
      "source": [
        "rules"
      ],
      "metadata": {
        "id": "o1FjQ5D51HbH",
        "colab": {
          "base_uri": "https://localhost:8080/"
        },
        "outputId": "61f33070-8ab4-433e-d4f1-bd0646e92b6b"
      },
      "execution_count": 230,
      "outputs": [
        {
          "output_type": "execute_result",
          "data": {
            "text/plain": [
              "{('avocado', 'avocado'): ((), 5.666666666666667),\n",
              " ('avocado', 'eggs'): ((), 8.0),\n",
              " ('avocado', 'fresh bread'): (('spaghetti',), 7.0),\n",
              " ('avocado', 'fresh bread', 'fresh bread'): (('spaghetti',), 1.0),\n",
              " ('avocado', 'fresh bread', 'spaghetti'): ((), 7.0),\n",
              " ('avocado', 'green tea'): ((), 5.571428571428571),\n",
              " ('avocado', 'muffins'): ((), 9.0),\n",
              " ('avocado', 'toothpaste'): ((), 6.0),\n",
              " ('avocado', 'turkey'): ((), 9.0),\n",
              " ('bug spray', 'bug spray'): ((), 5.666666666666667),\n",
              " ('bug spray', 'mineral water'): ((), 9.0),\n",
              " ('chocolate', 'chocolate'): ((), 5.333333333333333),\n",
              " ('chocolate', 'eggs'): ((), 7.157894736842105),\n",
              " ('chocolate', 'eggs', 'french fries'): ((), 7.5),\n",
              " ('chocolate', 'eggs', 'shampoo'): ((), 6.5),\n",
              " ('chocolate', 'french fries', 'french fries'): ((), 4.666666666666667),\n",
              " ('chocolate', 'low fat yogurt'): ((), 6.5),\n",
              " ('chocolate', 'shampoo'): (('eggs',), 6.5),\n",
              " ('chocolate', 'shampoo', 'shampoo'): (('eggs',), 1.0),\n",
              " ('chutney',): ((), 9.5),\n",
              " ('clothes accessories', 'clothes accessories'): ((), 5.0),\n",
              " ('clothes accessories', 'mineral water'): ((), 8.0),\n",
              " ('cookies',): ((), 9.189655172413794),\n",
              " ('cookies', 'spaghetti'): ((), 8.5),\n",
              " ('cooking oil', 'cooking oil'): ((), 4.666666666666667),\n",
              " ('cooking oil', 'cooking oil', 'cooking oil'): (('eggs',), 1.0),\n",
              " ('cooking oil', 'cooking oil', 'eggs'): ((), 4.666666666666667),\n",
              " ('cooking oil', 'cooking oil', 'mineral water'): (('eggs',), 1.0),\n",
              " ('cooking oil', 'cooking oil', 'turkey'): ((), 4.666666666666667),\n",
              " ('cooking oil', 'eggs', 'mineral water'): ((), 7.5),\n",
              " ('cooking oil', 'eggs', 'turkey'): ((), 7.5),\n",
              " ('cooking oil', 'low fat yogurt'): ((), 6.5),\n",
              " ('cooking oil', 'mineral water'): (('eggs',), 7.5),\n",
              " ('cottage cheese', 'cottage cheese'): ((), 5.333333333333333),\n",
              " ('cottage cheese', 'mineral water'): ((), 8.052631578947368),\n",
              " ('eggs',): ((), 8.227848101265822),\n",
              " ('eggs', 'extra dark chocolate', 'extra dark chocolate'): ((), 3.0),\n",
              " ('eggs',\n",
              "  'extra dark chocolate',\n",
              "  'extra dark chocolate',\n",
              "  'extra dark chocolate'): (('salmon',), 1.0),\n",
              " ('eggs',\n",
              "  'extra dark chocolate',\n",
              "  'extra dark chocolate',\n",
              "  'extra dark chocolate',\n",
              "  'salmon'): (('mineral water',), 1.0),\n",
              " ('eggs',\n",
              "  'extra dark chocolate',\n",
              "  'extra dark chocolate',\n",
              "  'mineral water'): (('salmon',), 3.0),\n",
              " ('eggs',\n",
              "  'extra dark chocolate',\n",
              "  'extra dark chocolate',\n",
              "  'mineral water',\n",
              "  'salmon'): ((), 3.0),\n",
              " ('eggs',\n",
              "  'extra dark chocolate',\n",
              "  'extra dark chocolate',\n",
              "  'mineral water',\n",
              "  'spaghetti'): (('salmon',), 1.0),\n",
              " ('eggs', 'extra dark chocolate', 'extra dark chocolate', 'salmon'): ((), 3.0),\n",
              " ('eggs',\n",
              "  'extra dark chocolate',\n",
              "  'extra dark chocolate',\n",
              "  'salmon',\n",
              "  'spaghetti'): (('mineral water',), 1.0),\n",
              " ('eggs',\n",
              "  'extra dark chocolate',\n",
              "  'extra dark chocolate',\n",
              "  'spaghetti'): (('mineral water', 'salmon'), 1.0),\n",
              " ('eggs', 'extra dark chocolate', 'mineral water'): (('salmon',), 15.0),\n",
              " ('eggs', 'extra dark chocolate', 'mineral water', 'salmon', 'spaghetti'): ((),\n",
              "  5.0),\n",
              " ('eggs', 'extra dark chocolate', 'mineral water', 'spaghetti'): (('salmon',),\n",
              "  5.0),\n",
              " ('eggs', 'extra dark chocolate', 'salmon', 'spaghetti'): (('mineral water',),\n",
              "  5.0),\n",
              " ('eggs', 'extra dark chocolate', 'turkey'): ((), 5.0),\n",
              " ('eggs', 'french fries'): ((), 7.5),\n",
              " ('eggs', 'french fries', 'french fries'): (('mineral water',), 1.0),\n",
              " ('eggs', 'french fries', 'mineral water'): ((), 7.5),\n",
              " ('eggs', 'mineral water'): ((), 6.8),\n",
              " ('eggs', 'pet food'): ((), 9.0),\n",
              " ('eggs', 'shampoo', 'shampoo'): ((), 4.0),\n",
              " ('eggs', 'turkey'): ((), 8.142857142857142),\n",
              " ('escalope', 'escalope'): ((), 4.948936170212766),\n",
              " ('escalope', 'escalope', 'mineral water'): (('spaghetti',), 1.0),\n",
              " ('escalope', 'escalope', 'spaghetti'): (('mineral water',),\n",
              "  0.5142857142857142),\n",
              " ('escalope', 'honey'): ((), 6.0),\n",
              " ('escalope', 'mineral water'): ((), 5.76),\n",
              " ('escalope', 'mineral water', 'salmon'): ((), 5.5),\n",
              " ('escalope', 'mineral water', 'spaghetti'): ((), 5.76),\n",
              " ('escalope', 'salmon'): ((), 6.9655172413793105),\n",
              " ('escalope', 'spaghetti'): ((), 6.666666666666667),\n",
              " ('extra dark chocolate', 'extra dark chocolate'): ((), 3.0),\n",
              " ('extra dark chocolate',\n",
              "  'extra dark chocolate',\n",
              "  'extra dark chocolate'): (('eggs',), 1.0),\n",
              " ('extra dark chocolate',\n",
              "  'extra dark chocolate',\n",
              "  'extra dark chocolate',\n",
              "  'mineral water'): (('eggs', 'salmon'), 1.0),\n",
              " ('extra dark chocolate',\n",
              "  'extra dark chocolate',\n",
              "  'extra dark chocolate',\n",
              "  'mineral water',\n",
              "  'salmon'): (('eggs',), 1.0),\n",
              " ('extra dark chocolate',\n",
              "  'extra dark chocolate',\n",
              "  'extra dark chocolate',\n",
              "  'spaghetti'): (('eggs',), 1.0),\n",
              " ('extra dark chocolate',\n",
              "  'extra dark chocolate',\n",
              "  'mineral water'): (('eggs', 'salmon'), 3.0),\n",
              " ('extra dark chocolate',\n",
              "  'extra dark chocolate',\n",
              "  'mineral water',\n",
              "  'salmon'): (('eggs',), 3.0),\n",
              " ('extra dark chocolate',\n",
              "  'extra dark chocolate',\n",
              "  'mineral water',\n",
              "  'salmon',\n",
              "  'spaghetti'): (('eggs',), 1.0),\n",
              " ('extra dark chocolate',\n",
              "  'extra dark chocolate',\n",
              "  'mineral water',\n",
              "  'spaghetti'): (('eggs', 'salmon'), 1.0),\n",
              " ('extra dark chocolate', 'extra dark chocolate', 'salmon'): (('eggs',), 3.0),\n",
              " ('extra dark chocolate',\n",
              "  'extra dark chocolate',\n",
              "  'salmon',\n",
              "  'spaghetti'): (('eggs', 'mineral water'), 1.0),\n",
              " ('extra dark chocolate',\n",
              "  'extra dark chocolate',\n",
              "  'spaghetti'): (('eggs', 'mineral water', 'salmon'), 1.0),\n",
              " ('extra dark chocolate', 'extra dark chocolate', 'turkey'): ((), 3.0),\n",
              " ('extra dark chocolate', 'mineral water', 'salmon', 'spaghetti'): (('eggs',),\n",
              "  5.0),\n",
              " ('extra dark chocolate', 'mineral water', 'spaghetti'): (('eggs', 'salmon'),\n",
              "  5.0),\n",
              " ('extra dark chocolate', 'salmon'): (('eggs',), 15.0),\n",
              " ('extra dark chocolate', 'salmon', 'spaghetti'): (('eggs', 'mineral water'),\n",
              "  5.0),\n",
              " ('french fries', 'french fries'): ((), 5.579754601226994),\n",
              " ('french fries', 'french fries', 'mineral water'): ((), 4.666666666666667),\n",
              " ('french fries', 'green tea'): ((), 6.0),\n",
              " ('french fries', 'protein bar'): ((), 7.5),\n",
              " ('french fries', 'strawberries'): ((), 8.5),\n",
              " ('fresh bread', 'fresh bread'): ((), 4.333333333333333),\n",
              " ('fresh bread', 'fresh bread', 'fresh bread'): (('spaghetti',), 1.0),\n",
              " ('fresh bread', 'fresh bread', 'spaghetti'): ((), 4.333333333333333),\n",
              " ('green tea',): ((), 7.696969696969697),\n",
              " ('green tea', 'mineral water'): ((), 7.03125),\n",
              " ('green tea', 'mineral water', 'spaghetti'): ((), 7.0),\n",
              " ('green tea', 'spaghetti'): ((), 7.818181818181818),\n",
              " ('honey', 'low fat yogurt'): ((), 6.066666666666666),\n",
              " ('honey', 'protein bar'): ((), 7.5),\n",
              " ('honey', 'toothpaste'): ((), 6.0),\n",
              " ('low fat yogurt',): ((), 8.028571428571428),\n",
              " ('magazines',): ((), 8.0),\n",
              " ('mineral water', 'mineral water'): ((), 5.503131524008351),\n",
              " ('mineral water', 'mineral water', 'spaghetti'): ((), 5.0),\n",
              " ('mineral water', 'salmon', 'salmon'): ((), 5.666666666666667),\n",
              " ('muffins', 'muffins'): ((), 5.666666666666667),\n",
              " ('pet food', 'pet food'): ((), 5.666666666666667),\n",
              " ('protein bar', 'protein bar'): ((), 4.666666666666667),\n",
              " ('salmon', 'salmon'): ((), 5.666666666666667),\n",
              " ('salmon', 'salmon', 'salmon'): (('mineral water',), 1.0),\n",
              " ('shallot',): ((), 8.5),\n",
              " ('shampoo', 'shampoo'): ((), 4.0),\n",
              " ('shampoo', 'shampoo', 'shampoo'): (('eggs',), 1.0),\n",
              " ('spaghetti', 'spaghetti'): ((), 6.0),\n",
              " ('sparkling water',): ((), 8.875),\n",
              " ('strawberries', 'strawberries'): ((), 5.333333333333333),\n",
              " ('strawberries', 'turkey'): ((), 8.5),\n",
              " ('toothpaste', 'toothpaste'): ((), 3.6666666666666665)}"
            ]
          },
          "metadata": {},
          "execution_count": 230
        }
      ]
    },
    {
      "cell_type": "markdown",
      "source": [
        "##FP-growth algorithm с другой библиотеки"
      ],
      "metadata": {
        "id": "tymWxDUkW3k1"
      }
    },
    {
      "cell_type": "code",
      "source": [
        "# Importing the libraries\n",
        "import numpy as np\n",
        "import matplotlib.pyplot as plt\n",
        "import pandas as pd"
      ],
      "metadata": {
        "id": "9qpRu2kI1WDc"
      },
      "execution_count": 231,
      "outputs": []
    },
    {
      "cell_type": "code",
      "source": [
        "# use fp-growth algorithm\n",
        "from mlxtend.frequent_patterns.fpgrowth import fpgrowth"
      ],
      "metadata": {
        "id": "HEpLz63r1nKH"
      },
      "execution_count": 243,
      "outputs": []
    },
    {
      "cell_type": "code",
      "source": [
        "df.head(3)"
      ],
      "metadata": {
        "colab": {
          "base_uri": "https://localhost:8080/",
          "height": 271
        },
        "id": "ESV3dm3bXVwb",
        "outputId": "8003f5e2-5487-4149-f84b-5ea38fca0f0d"
      },
      "execution_count": 244,
      "outputs": [
        {
          "output_type": "execute_result",
          "data": {
            "text/plain": [
              "   almonds  antioxydant juice  asparagus  avocado  babies food  bacon  \\\n",
              "0     True               True      False     True        False  False   \n",
              "1    False              False      False    False        False  False   \n",
              "2    False              False      False    False        False  False   \n",
              "\n",
              "   barbecue sauce  black tea  blueberries  body spray  ...  turkey  \\\n",
              "0           False      False        False       False  ...   False   \n",
              "1           False      False        False       False  ...   False   \n",
              "2           False      False        False       False  ...   False   \n",
              "\n",
              "   vegetables mix  water spray  white wine  whole weat flour  \\\n",
              "0            True        False       False              True   \n",
              "1           False        False       False             False   \n",
              "2           False        False       False             False   \n",
              "\n",
              "   whole wheat pasta  whole wheat rice   yams  yogurt cake  zucchini  \n",
              "0              False             False   True        False     False  \n",
              "1              False             False  False        False     False  \n",
              "2              False             False  False        False     False  \n",
              "\n",
              "[3 rows x 119 columns]"
            ],
            "text/html": [
              "\n",
              "  <div id=\"df-d41907e1-e3ea-47fe-90c3-407bbe98084e\">\n",
              "    <div class=\"colab-df-container\">\n",
              "      <div>\n",
              "<style scoped>\n",
              "    .dataframe tbody tr th:only-of-type {\n",
              "        vertical-align: middle;\n",
              "    }\n",
              "\n",
              "    .dataframe tbody tr th {\n",
              "        vertical-align: top;\n",
              "    }\n",
              "\n",
              "    .dataframe thead th {\n",
              "        text-align: right;\n",
              "    }\n",
              "</style>\n",
              "<table border=\"1\" class=\"dataframe\">\n",
              "  <thead>\n",
              "    <tr style=\"text-align: right;\">\n",
              "      <th></th>\n",
              "      <th>almonds</th>\n",
              "      <th>antioxydant juice</th>\n",
              "      <th>asparagus</th>\n",
              "      <th>avocado</th>\n",
              "      <th>babies food</th>\n",
              "      <th>bacon</th>\n",
              "      <th>barbecue sauce</th>\n",
              "      <th>black tea</th>\n",
              "      <th>blueberries</th>\n",
              "      <th>body spray</th>\n",
              "      <th>...</th>\n",
              "      <th>turkey</th>\n",
              "      <th>vegetables mix</th>\n",
              "      <th>water spray</th>\n",
              "      <th>white wine</th>\n",
              "      <th>whole weat flour</th>\n",
              "      <th>whole wheat pasta</th>\n",
              "      <th>whole wheat rice</th>\n",
              "      <th>yams</th>\n",
              "      <th>yogurt cake</th>\n",
              "      <th>zucchini</th>\n",
              "    </tr>\n",
              "  </thead>\n",
              "  <tbody>\n",
              "    <tr>\n",
              "      <th>0</th>\n",
              "      <td>True</td>\n",
              "      <td>True</td>\n",
              "      <td>False</td>\n",
              "      <td>True</td>\n",
              "      <td>False</td>\n",
              "      <td>False</td>\n",
              "      <td>False</td>\n",
              "      <td>False</td>\n",
              "      <td>False</td>\n",
              "      <td>False</td>\n",
              "      <td>...</td>\n",
              "      <td>False</td>\n",
              "      <td>True</td>\n",
              "      <td>False</td>\n",
              "      <td>False</td>\n",
              "      <td>True</td>\n",
              "      <td>False</td>\n",
              "      <td>False</td>\n",
              "      <td>True</td>\n",
              "      <td>False</td>\n",
              "      <td>False</td>\n",
              "    </tr>\n",
              "    <tr>\n",
              "      <th>1</th>\n",
              "      <td>False</td>\n",
              "      <td>False</td>\n",
              "      <td>False</td>\n",
              "      <td>False</td>\n",
              "      <td>False</td>\n",
              "      <td>False</td>\n",
              "      <td>False</td>\n",
              "      <td>False</td>\n",
              "      <td>False</td>\n",
              "      <td>False</td>\n",
              "      <td>...</td>\n",
              "      <td>False</td>\n",
              "      <td>False</td>\n",
              "      <td>False</td>\n",
              "      <td>False</td>\n",
              "      <td>False</td>\n",
              "      <td>False</td>\n",
              "      <td>False</td>\n",
              "      <td>False</td>\n",
              "      <td>False</td>\n",
              "      <td>False</td>\n",
              "    </tr>\n",
              "    <tr>\n",
              "      <th>2</th>\n",
              "      <td>False</td>\n",
              "      <td>False</td>\n",
              "      <td>False</td>\n",
              "      <td>False</td>\n",
              "      <td>False</td>\n",
              "      <td>False</td>\n",
              "      <td>False</td>\n",
              "      <td>False</td>\n",
              "      <td>False</td>\n",
              "      <td>False</td>\n",
              "      <td>...</td>\n",
              "      <td>False</td>\n",
              "      <td>False</td>\n",
              "      <td>False</td>\n",
              "      <td>False</td>\n",
              "      <td>False</td>\n",
              "      <td>False</td>\n",
              "      <td>False</td>\n",
              "      <td>False</td>\n",
              "      <td>False</td>\n",
              "      <td>False</td>\n",
              "    </tr>\n",
              "  </tbody>\n",
              "</table>\n",
              "<p>3 rows × 119 columns</p>\n",
              "</div>\n",
              "      <button class=\"colab-df-convert\" onclick=\"convertToInteractive('df-d41907e1-e3ea-47fe-90c3-407bbe98084e')\"\n",
              "              title=\"Convert this dataframe to an interactive table.\"\n",
              "              style=\"display:none;\">\n",
              "        \n",
              "  <svg xmlns=\"http://www.w3.org/2000/svg\" height=\"24px\"viewBox=\"0 0 24 24\"\n",
              "       width=\"24px\">\n",
              "    <path d=\"M0 0h24v24H0V0z\" fill=\"none\"/>\n",
              "    <path d=\"M18.56 5.44l.94 2.06.94-2.06 2.06-.94-2.06-.94-.94-2.06-.94 2.06-2.06.94zm-11 1L8.5 8.5l.94-2.06 2.06-.94-2.06-.94L8.5 2.5l-.94 2.06-2.06.94zm10 10l.94 2.06.94-2.06 2.06-.94-2.06-.94-.94-2.06-.94 2.06-2.06.94z\"/><path d=\"M17.41 7.96l-1.37-1.37c-.4-.4-.92-.59-1.43-.59-.52 0-1.04.2-1.43.59L10.3 9.45l-7.72 7.72c-.78.78-.78 2.05 0 2.83L4 21.41c.39.39.9.59 1.41.59.51 0 1.02-.2 1.41-.59l7.78-7.78 2.81-2.81c.8-.78.8-2.07 0-2.86zM5.41 20L4 18.59l7.72-7.72 1.47 1.35L5.41 20z\"/>\n",
              "  </svg>\n",
              "      </button>\n",
              "      \n",
              "  <style>\n",
              "    .colab-df-container {\n",
              "      display:flex;\n",
              "      flex-wrap:wrap;\n",
              "      gap: 12px;\n",
              "    }\n",
              "\n",
              "    .colab-df-convert {\n",
              "      background-color: #E8F0FE;\n",
              "      border: none;\n",
              "      border-radius: 50%;\n",
              "      cursor: pointer;\n",
              "      display: none;\n",
              "      fill: #1967D2;\n",
              "      height: 32px;\n",
              "      padding: 0 0 0 0;\n",
              "      width: 32px;\n",
              "    }\n",
              "\n",
              "    .colab-df-convert:hover {\n",
              "      background-color: #E2EBFA;\n",
              "      box-shadow: 0px 1px 2px rgba(60, 64, 67, 0.3), 0px 1px 3px 1px rgba(60, 64, 67, 0.15);\n",
              "      fill: #174EA6;\n",
              "    }\n",
              "\n",
              "    [theme=dark] .colab-df-convert {\n",
              "      background-color: #3B4455;\n",
              "      fill: #D2E3FC;\n",
              "    }\n",
              "\n",
              "    [theme=dark] .colab-df-convert:hover {\n",
              "      background-color: #434B5C;\n",
              "      box-shadow: 0px 1px 3px 1px rgba(0, 0, 0, 0.15);\n",
              "      filter: drop-shadow(0px 1px 2px rgba(0, 0, 0, 0.3));\n",
              "      fill: #FFFFFF;\n",
              "    }\n",
              "  </style>\n",
              "\n",
              "      <script>\n",
              "        const buttonEl =\n",
              "          document.querySelector('#df-d41907e1-e3ea-47fe-90c3-407bbe98084e button.colab-df-convert');\n",
              "        buttonEl.style.display =\n",
              "          google.colab.kernel.accessAllowed ? 'block' : 'none';\n",
              "\n",
              "        async function convertToInteractive(key) {\n",
              "          const element = document.querySelector('#df-d41907e1-e3ea-47fe-90c3-407bbe98084e');\n",
              "          const dataTable =\n",
              "            await google.colab.kernel.invokeFunction('convertToInteractive',\n",
              "                                                     [key], {});\n",
              "          if (!dataTable) return;\n",
              "\n",
              "          const docLinkHtml = 'Like what you see? Visit the ' +\n",
              "            '<a target=\"_blank\" href=https://colab.research.google.com/notebooks/data_table.ipynb>data table notebook</a>'\n",
              "            + ' to learn more about interactive tables.';\n",
              "          element.innerHTML = '';\n",
              "          dataTable['output_type'] = 'display_data';\n",
              "          await google.colab.output.renderOutput(dataTable, element);\n",
              "          const docLink = document.createElement('div');\n",
              "          docLink.innerHTML = docLinkHtml;\n",
              "          element.appendChild(docLink);\n",
              "        }\n",
              "      </script>\n",
              "    </div>\n",
              "  </div>\n",
              "  "
            ]
          },
          "metadata": {},
          "execution_count": 244
        }
      ]
    },
    {
      "cell_type": "code",
      "source": [
        "f_patterns = fpgrowth(df, min_support=0.05)\n",
        "f_patterns.head(5)"
      ],
      "metadata": {
        "colab": {
          "base_uri": "https://localhost:8080/",
          "height": 206
        },
        "id": "UK7rmz-jXOcY",
        "outputId": "d8b3598b-28df-4308-e490-78fe90c4526b"
      },
      "execution_count": 249,
      "outputs": [
        {
          "output_type": "execute_result",
          "data": {
            "text/plain": [
              "    support itemsets\n",
              "0  0.238368     (71)\n",
              "1  0.132116     (53)\n",
              "2  0.076523     (64)\n",
              "3  0.071457     (96)\n",
              "4  0.065858     (80)"
            ],
            "text/html": [
              "\n",
              "  <div id=\"df-0d24dcad-3a3a-4893-90c3-444e70068c75\">\n",
              "    <div class=\"colab-df-container\">\n",
              "      <div>\n",
              "<style scoped>\n",
              "    .dataframe tbody tr th:only-of-type {\n",
              "        vertical-align: middle;\n",
              "    }\n",
              "\n",
              "    .dataframe tbody tr th {\n",
              "        vertical-align: top;\n",
              "    }\n",
              "\n",
              "    .dataframe thead th {\n",
              "        text-align: right;\n",
              "    }\n",
              "</style>\n",
              "<table border=\"1\" class=\"dataframe\">\n",
              "  <thead>\n",
              "    <tr style=\"text-align: right;\">\n",
              "      <th></th>\n",
              "      <th>support</th>\n",
              "      <th>itemsets</th>\n",
              "    </tr>\n",
              "  </thead>\n",
              "  <tbody>\n",
              "    <tr>\n",
              "      <th>0</th>\n",
              "      <td>0.238368</td>\n",
              "      <td>(71)</td>\n",
              "    </tr>\n",
              "    <tr>\n",
              "      <th>1</th>\n",
              "      <td>0.132116</td>\n",
              "      <td>(53)</td>\n",
              "    </tr>\n",
              "    <tr>\n",
              "      <th>2</th>\n",
              "      <td>0.076523</td>\n",
              "      <td>(64)</td>\n",
              "    </tr>\n",
              "    <tr>\n",
              "      <th>3</th>\n",
              "      <td>0.071457</td>\n",
              "      <td>(96)</td>\n",
              "    </tr>\n",
              "    <tr>\n",
              "      <th>4</th>\n",
              "      <td>0.065858</td>\n",
              "      <td>(80)</td>\n",
              "    </tr>\n",
              "  </tbody>\n",
              "</table>\n",
              "</div>\n",
              "      <button class=\"colab-df-convert\" onclick=\"convertToInteractive('df-0d24dcad-3a3a-4893-90c3-444e70068c75')\"\n",
              "              title=\"Convert this dataframe to an interactive table.\"\n",
              "              style=\"display:none;\">\n",
              "        \n",
              "  <svg xmlns=\"http://www.w3.org/2000/svg\" height=\"24px\"viewBox=\"0 0 24 24\"\n",
              "       width=\"24px\">\n",
              "    <path d=\"M0 0h24v24H0V0z\" fill=\"none\"/>\n",
              "    <path d=\"M18.56 5.44l.94 2.06.94-2.06 2.06-.94-2.06-.94-.94-2.06-.94 2.06-2.06.94zm-11 1L8.5 8.5l.94-2.06 2.06-.94-2.06-.94L8.5 2.5l-.94 2.06-2.06.94zm10 10l.94 2.06.94-2.06 2.06-.94-2.06-.94-.94-2.06-.94 2.06-2.06.94z\"/><path d=\"M17.41 7.96l-1.37-1.37c-.4-.4-.92-.59-1.43-.59-.52 0-1.04.2-1.43.59L10.3 9.45l-7.72 7.72c-.78.78-.78 2.05 0 2.83L4 21.41c.39.39.9.59 1.41.59.51 0 1.02-.2 1.41-.59l7.78-7.78 2.81-2.81c.8-.78.8-2.07 0-2.86zM5.41 20L4 18.59l7.72-7.72 1.47 1.35L5.41 20z\"/>\n",
              "  </svg>\n",
              "      </button>\n",
              "      \n",
              "  <style>\n",
              "    .colab-df-container {\n",
              "      display:flex;\n",
              "      flex-wrap:wrap;\n",
              "      gap: 12px;\n",
              "    }\n",
              "\n",
              "    .colab-df-convert {\n",
              "      background-color: #E8F0FE;\n",
              "      border: none;\n",
              "      border-radius: 50%;\n",
              "      cursor: pointer;\n",
              "      display: none;\n",
              "      fill: #1967D2;\n",
              "      height: 32px;\n",
              "      padding: 0 0 0 0;\n",
              "      width: 32px;\n",
              "    }\n",
              "\n",
              "    .colab-df-convert:hover {\n",
              "      background-color: #E2EBFA;\n",
              "      box-shadow: 0px 1px 2px rgba(60, 64, 67, 0.3), 0px 1px 3px 1px rgba(60, 64, 67, 0.15);\n",
              "      fill: #174EA6;\n",
              "    }\n",
              "\n",
              "    [theme=dark] .colab-df-convert {\n",
              "      background-color: #3B4455;\n",
              "      fill: #D2E3FC;\n",
              "    }\n",
              "\n",
              "    [theme=dark] .colab-df-convert:hover {\n",
              "      background-color: #434B5C;\n",
              "      box-shadow: 0px 1px 3px 1px rgba(0, 0, 0, 0.15);\n",
              "      filter: drop-shadow(0px 1px 2px rgba(0, 0, 0, 0.3));\n",
              "      fill: #FFFFFF;\n",
              "    }\n",
              "  </style>\n",
              "\n",
              "      <script>\n",
              "        const buttonEl =\n",
              "          document.querySelector('#df-0d24dcad-3a3a-4893-90c3-444e70068c75 button.colab-df-convert');\n",
              "        buttonEl.style.display =\n",
              "          google.colab.kernel.accessAllowed ? 'block' : 'none';\n",
              "\n",
              "        async function convertToInteractive(key) {\n",
              "          const element = document.querySelector('#df-0d24dcad-3a3a-4893-90c3-444e70068c75');\n",
              "          const dataTable =\n",
              "            await google.colab.kernel.invokeFunction('convertToInteractive',\n",
              "                                                     [key], {});\n",
              "          if (!dataTable) return;\n",
              "\n",
              "          const docLinkHtml = 'Like what you see? Visit the ' +\n",
              "            '<a target=\"_blank\" href=https://colab.research.google.com/notebooks/data_table.ipynb>data table notebook</a>'\n",
              "            + ' to learn more about interactive tables.';\n",
              "          element.innerHTML = '';\n",
              "          dataTable['output_type'] = 'display_data';\n",
              "          await google.colab.output.renderOutput(dataTable, element);\n",
              "          const docLink = document.createElement('div');\n",
              "          docLink.innerHTML = docLinkHtml;\n",
              "          element.appendChild(docLink);\n",
              "        }\n",
              "      </script>\n",
              "    </div>\n",
              "  </div>\n",
              "  "
            ]
          },
          "metadata": {},
          "execution_count": 249
        }
      ]
    },
    {
      "cell_type": "markdown",
      "source": [
        "#One-Rule Algorithm"
      ],
      "metadata": {
        "id": "IhhEIs6p3pez"
      }
    },
    {
      "cell_type": "markdown",
      "source": [
        "- Этот метод используется в алгоритме последовательного обучения для изучения правил.\n",
        "- Он возвращает одно правило, которое охватывает по крайней мере некоторые примеры (как показано на рисунке 1).\n",
        "- Тем не менее, что делает его действительно мощным, так это его способность создавать отношения между заданными атрибутами, следовательно, охватывая большее пространство гипотез."
      ],
      "metadata": {
        "id": "xGVF0t1u3rQq"
      }
    },
    {
      "cell_type": "markdown",
      "source": [
        "Ниже приведены исходные данные Iris на них мы будем проверять работу алгоритма:"
      ],
      "metadata": {
        "id": "ymr6r3Q2JVp-"
      }
    },
    {
      "cell_type": "code",
      "source": [
        "from mlxtend.data import iris_data\n",
        "X, y = iris_data()"
      ],
      "metadata": {
        "id": "EvgbgrJ38anq"
      },
      "execution_count": 250,
      "outputs": []
    },
    {
      "cell_type": "markdown",
      "source": [
        "Ниже приведен дискретизированный набор данных. Каждый объект разделен на 4 квартиля."
      ],
      "metadata": {
        "id": "nTS4yIkfJafP"
      }
    },
    {
      "cell_type": "code",
      "source": [
        "import numpy as np\n",
        "\n",
        "\n",
        "def get_feature_quartiles(X):\n",
        "    X_discretized = X.copy()\n",
        "    for col in range(X.shape[1]):\n",
        "        for q, class_label in zip([1.0, 0.75, 0.5, 0.25], [3, 2, 1, 0]):\n",
        "            threshold = np.quantile(X[:, col], q=q)\n",
        "            X_discretized[X[:, col] <= threshold, col] = class_label\n",
        "    return X_discretized.astype(np.int)\n",
        "\n",
        "Xd = get_feature_quartiles(X)"
      ],
      "metadata": {
        "colab": {
          "base_uri": "https://localhost:8080/"
        },
        "id": "45QL51POIlD1",
        "outputId": "940b0043-289c-4bb0-a365-7d949c54d12d"
      },
      "execution_count": 251,
      "outputs": [
        {
          "output_type": "stream",
          "name": "stderr",
          "text": [
            "/usr/local/lib/python3.7/dist-packages/ipykernel_launcher.py:10: DeprecationWarning: `np.int` is a deprecated alias for the builtin `int`. To silence this warning, use `int` by itself. Doing this will not modify any behavior and is safe. When replacing `np.int`, you may wish to use e.g. `np.int64` or `np.int32` to specify the precision. If you wish to review your current use, check the release note link for additional information.\n",
            "Deprecated in NumPy 1.20; for more details and guidance: https://numpy.org/devdocs/release/1.20.0-notes.html#deprecations\n",
            "  # Remove the CWD from sys.path while we load stuff.\n"
          ]
        }
      ]
    },
    {
      "cell_type": "markdown",
      "source": [
        "Учитывая набор данных с категориальными признаками, мы можем использовать классификатор OneR, похожий на оценщик scikit-learn для классификации. Во-первых, давайте разделим набор данных на обучающие и тестовые данные:"
      ],
      "metadata": {
        "id": "NoK98IP4JdYs"
      }
    },
    {
      "cell_type": "code",
      "source": [
        "from sklearn.model_selection import train_test_split\n",
        "Xd_train, Xd_test, y_train, y_test = train_test_split(Xd, y, random_state=0, stratify=y)"
      ],
      "metadata": {
        "id": "JXbMp-2PIu33"
      },
      "execution_count": 252,
      "outputs": []
    },
    {
      "cell_type": "code",
      "source": [
        "%cd /content/Facewap\n",
        "\n",
        "# Install the python version\n",
        "!apt-get install python3.7\n",
        "\n",
        "# Select the version\n",
        "#!python setup.py\n",
        "!python --version"
      ],
      "metadata": {
        "colab": {
          "base_uri": "https://localhost:8080/"
        },
        "id": "9JZyvNE4Cosl",
        "outputId": "dadbeebe-d645-4e2e-ed59-507cf824e3b9"
      },
      "execution_count": 253,
      "outputs": [
        {
          "output_type": "stream",
          "name": "stdout",
          "text": [
            "/content/Facewap\n",
            "Reading package lists... Done\n",
            "Building dependency tree       \n",
            "Reading state information... Done\n",
            "python3.7 is already the newest version (3.7.13-1+bionic3).\n",
            "The following package was automatically installed and is no longer required:\n",
            "  libnvidia-common-460\n",
            "Use 'apt autoremove' to remove it.\n",
            "0 upgraded, 0 newly installed, 0 to remove and 42 not upgraded.\n",
            "Python 3.7.13\n"
          ]
        }
      ]
    },
    {
      "cell_type": "code",
      "source": [
        "%pip install mlxtend --upgrade\n",
        "import mlxtend"
      ],
      "metadata": {
        "colab": {
          "base_uri": "https://localhost:8080/"
        },
        "id": "2Ople9SBBc_-",
        "outputId": "83fa6c28-b8ed-4c5d-dd5c-135af83d097b"
      },
      "execution_count": 254,
      "outputs": [
        {
          "output_type": "stream",
          "name": "stdout",
          "text": [
            "Looking in indexes: https://pypi.org/simple, https://us-python.pkg.dev/colab-wheels/public/simple/\n",
            "Requirement already satisfied: mlxtend in /usr/local/lib/python3.7/dist-packages (0.20.0)\n",
            "Requirement already satisfied: scipy>=1.2.1 in /usr/local/lib/python3.7/dist-packages (from mlxtend) (1.4.1)\n",
            "Requirement already satisfied: numpy>=1.16.2 in /usr/local/lib/python3.7/dist-packages (from mlxtend) (1.21.6)\n",
            "Requirement already satisfied: joblib>=0.13.2 in /usr/local/lib/python3.7/dist-packages (from mlxtend) (1.1.0)\n",
            "Requirement already satisfied: setuptools in /usr/local/lib/python3.7/dist-packages (from mlxtend) (57.4.0)\n",
            "Requirement already satisfied: matplotlib>=3.0.0 in /usr/local/lib/python3.7/dist-packages (from mlxtend) (3.2.2)\n",
            "Requirement already satisfied: scikit-learn>=1.0.2 in /usr/local/lib/python3.7/dist-packages (from mlxtend) (1.0.2)\n",
            "Requirement already satisfied: pandas>=0.24.2 in /usr/local/lib/python3.7/dist-packages (from mlxtend) (1.3.5)\n",
            "Requirement already satisfied: kiwisolver>=1.0.1 in /usr/local/lib/python3.7/dist-packages (from matplotlib>=3.0.0->mlxtend) (1.4.2)\n",
            "Requirement already satisfied: python-dateutil>=2.1 in /usr/local/lib/python3.7/dist-packages (from matplotlib>=3.0.0->mlxtend) (2.8.2)\n",
            "Requirement already satisfied: cycler>=0.10 in /usr/local/lib/python3.7/dist-packages (from matplotlib>=3.0.0->mlxtend) (0.11.0)\n",
            "Requirement already satisfied: pyparsing!=2.0.4,!=2.1.2,!=2.1.6,>=2.0.1 in /usr/local/lib/python3.7/dist-packages (from matplotlib>=3.0.0->mlxtend) (3.0.9)\n",
            "Requirement already satisfied: typing-extensions in /usr/local/lib/python3.7/dist-packages (from kiwisolver>=1.0.1->matplotlib>=3.0.0->mlxtend) (4.2.0)\n",
            "Requirement already satisfied: pytz>=2017.3 in /usr/local/lib/python3.7/dist-packages (from pandas>=0.24.2->mlxtend) (2022.1)\n",
            "Requirement already satisfied: six>=1.5 in /usr/local/lib/python3.7/dist-packages (from python-dateutil>=2.1->matplotlib>=3.0.0->mlxtend) (1.15.0)\n",
            "Requirement already satisfied: threadpoolctl>=2.0.0 in /usr/local/lib/python3.7/dist-packages (from scikit-learn>=1.0.2->mlxtend) (3.1.0)\n"
          ]
        }
      ]
    },
    {
      "cell_type": "code",
      "source": [
        "from mlxtend.classifier.oner import OneRClassifier"
      ],
      "metadata": {
        "id": "n_vEVFS34MYI"
      },
      "execution_count": 255,
      "outputs": []
    },
    {
      "cell_type": "markdown",
      "source": [
        "Далее мы можем обучить модель на обучающем наборе с помощью метода:OneRClassifierfit"
      ],
      "metadata": {
        "id": "SRjeRLkfJhJV"
      }
    },
    {
      "cell_type": "code",
      "source": [
        "oner = OneRClassifier()\n",
        "oner.fit(Xd_train, y_train);"
      ],
      "metadata": {
        "id": "nuDb8QtE4PcD"
      },
      "execution_count": 256,
      "outputs": []
    },
    {
      "cell_type": "markdown",
      "source": [
        "Индекс столбца выбранного объекта доступен через атрибут после подгонки модели:feature_idx_"
      ],
      "metadata": {
        "id": "VLb-rEBUI_lO"
      }
    },
    {
      "cell_type": "code",
      "source": [
        "oner.feature_idx_"
      ],
      "metadata": {
        "colab": {
          "base_uri": "https://localhost:8080/"
        },
        "id": "0X6urv4EH7Lp",
        "outputId": "9ee9a8f4-7616-4a7f-c1f9-8c6822aff4a0"
      },
      "execution_count": 257,
      "outputs": [
        {
          "output_type": "execute_result",
          "data": {
            "text/plain": [
              "2"
            ]
          },
          "metadata": {},
          "execution_count": 257
        }
      ]
    },
    {
      "cell_type": "markdown",
      "source": [
        "Также доступна после примерка модели. В нем перечисляется общая ошибка для выбранного компонента (т.е. компонента, указанного в разделе ). Также в нем предусмотрены правила классификации:prediction_dict_feature_idx_"
      ],
      "metadata": {
        "id": "1bx_jHNjJBjz"
      }
    },
    {
      "cell_type": "code",
      "source": [
        "oner.prediction_dict_"
      ],
      "metadata": {
        "colab": {
          "base_uri": "https://localhost:8080/"
        },
        "id": "imojaFR0H_H1",
        "outputId": "cd5f7ed8-f73a-49d3-8495-6b488cc8d183"
      },
      "execution_count": 258,
      "outputs": [
        {
          "output_type": "execute_result",
          "data": {
            "text/plain": [
              "{'rules (value: class)': {0: 0, 1: 1, 2: 1, 3: 2}, 'total error': 16}"
            ]
          },
          "metadata": {},
          "execution_count": 258
        }
      ]
    },
    {
      "cell_type": "markdown",
      "source": [
        "Т.е. означает, что для выбранного признака (длина лепестка) существует 3 правила: - если значение равно 0, классифицировать как 0 (Iris-setosa) - если значение равно 1, классифицировать как 1 (Iris-versicolor) - если значение равно 2, классифицировать как 1 (Iris-versicolor) - если значение равно 3, классифицировать как 2 (Iris-virginica)'rules (value: class)': {0: 0, 1: 1, 2: 1, 3: 2}\n",
        "\n",
        "После подгонки модели мы можем использовать объект для прогнозирования:oner"
      ],
      "metadata": {
        "id": "I_R9wINRJEa2"
      }
    },
    {
      "cell_type": "code",
      "source": [
        "oner.predict(Xd_train)"
      ],
      "metadata": {
        "colab": {
          "base_uri": "https://localhost:8080/"
        },
        "id": "FtmSNby3JIzm",
        "outputId": "e959e3d0-41ce-4a68-dcd6-45b35d49c18f"
      },
      "execution_count": 259,
      "outputs": [
        {
          "output_type": "execute_result",
          "data": {
            "text/plain": [
              "array([1, 0, 0, 1, 1, 1, 1, 0, 1, 0, 0, 1, 0, 1, 0, 1, 1, 1, 1, 2, 2, 1,\n",
              "       0, 1, 2, 1, 2, 1, 1, 2, 1, 2, 1, 0, 0, 1, 2, 1, 1, 2, 2, 1, 0, 1,\n",
              "       1, 1, 2, 0, 1, 2, 1, 2, 1, 0, 0, 0, 0, 1, 0, 1, 1, 1, 2, 0, 1, 1,\n",
              "       0, 1, 2, 1, 2, 0, 1, 2, 1, 1, 2, 0, 1, 0, 0, 1, 1, 2, 0, 0, 0, 1,\n",
              "       0, 1, 2, 2, 2, 0, 1, 0, 2, 0, 1, 1, 1, 1, 0, 2, 2, 0, 1, 1, 0, 2,\n",
              "       1, 2])"
            ]
          },
          "metadata": {},
          "execution_count": 259
        }
      ]
    },
    {
      "cell_type": "code",
      "source": [
        "y_pred = oner.predict(Xd_train)\n",
        "train_acc = np.mean(y_pred == y_train)  \n",
        "print(f'Training accuracy {train_acc*100:.2f}%')"
      ],
      "metadata": {
        "colab": {
          "base_uri": "https://localhost:8080/"
        },
        "id": "M8Z192WTJLsv",
        "outputId": "f031c613-2143-493e-f810-75a2b35bdb14"
      },
      "execution_count": 260,
      "outputs": [
        {
          "output_type": "stream",
          "name": "stdout",
          "text": [
            "Training accuracy 85.71%\n"
          ]
        }
      ]
    },
    {
      "cell_type": "code",
      "source": [
        "y_pred = oner.predict(Xd_test)\n",
        "test_acc = np.mean(y_pred == y_test)  \n",
        "print(f'Test accuracy {test_acc*100:.2f}%')"
      ],
      "metadata": {
        "colab": {
          "base_uri": "https://localhost:8080/"
        },
        "id": "v0O4b4pbJNK3",
        "outputId": "2c8a7601-2865-498d-c3be-ccb907a31d36"
      },
      "execution_count": 261,
      "outputs": [
        {
          "output_type": "stream",
          "name": "stdout",
          "text": [
            "Test accuracy 84.21%\n"
          ]
        }
      ]
    },
    {
      "cell_type": "markdown",
      "source": [
        "Вместо того, чтобы вычислять точность прогнозирования вручную, как показано выше, мы также можем использовать метод:score"
      ],
      "metadata": {
        "id": "C76yqag2JQoD"
      }
    },
    {
      "cell_type": "code",
      "source": [
        "test_acc = oner.score(Xd_test, y_test)\n",
        "print(f'Test accuracy {test_acc*100:.2f}%')"
      ],
      "metadata": {
        "colab": {
          "base_uri": "https://localhost:8080/"
        },
        "id": "h_Fxx84zJOya",
        "outputId": "b5766f6a-9f10-4836-d934-2acd106bdf10"
      },
      "execution_count": 262,
      "outputs": [
        {
          "output_type": "stream",
          "name": "stdout",
          "text": [
            "Test accuracy 84.21%\n"
          ]
        }
      ]
    },
    {
      "cell_type": "markdown",
      "source": [
        "#ECLAT"
      ],
      "metadata": {
        "id": "y9DFwNzAKE5G"
      }
    },
    {
      "cell_type": "markdown",
      "source": [
        "Алгоритм Эклата — алгоритм поиска глубины, основанный на пересечении множеств. Он подходит как для последовательного, так и для параллельного выполнения с свойствами, улучшающими локальность."
      ],
      "metadata": {
        "id": "VdguPIMrLBpf"
      }
    },
    {
      "cell_type": "markdown",
      "source": [
        "Устанавливаем библиотеки"
      ],
      "metadata": {
        "id": "Qpkw0S1yY2Hb"
      }
    },
    {
      "cell_type": "code",
      "source": [
        "!pip install pyECLAT\n",
        "%cd /content/"
      ],
      "metadata": {
        "colab": {
          "base_uri": "https://localhost:8080/"
        },
        "id": "dhKdo03BLCCR",
        "outputId": "3dffb6c5-e977-4181-a2d7-ee397f2c603c"
      },
      "execution_count": 263,
      "outputs": [
        {
          "output_type": "stream",
          "name": "stdout",
          "text": [
            "Looking in indexes: https://pypi.org/simple, https://us-python.pkg.dev/colab-wheels/public/simple/\n",
            "Requirement already satisfied: pyECLAT in /usr/local/lib/python3.7/dist-packages (1.0.2)\n",
            "Requirement already satisfied: numpy>=1.17.4 in /usr/local/lib/python3.7/dist-packages (from pyECLAT) (1.21.6)\n",
            "Requirement already satisfied: pandas>=0.25.3 in /usr/local/lib/python3.7/dist-packages (from pyECLAT) (1.3.5)\n",
            "Requirement already satisfied: tqdm>=4.41.1 in /usr/local/lib/python3.7/dist-packages (from pyECLAT) (4.64.0)\n",
            "Requirement already satisfied: python-dateutil>=2.7.3 in /usr/local/lib/python3.7/dist-packages (from pandas>=0.25.3->pyECLAT) (2.8.2)\n",
            "Requirement already satisfied: pytz>=2017.3 in /usr/local/lib/python3.7/dist-packages (from pandas>=0.25.3->pyECLAT) (2022.1)\n",
            "Requirement already satisfied: six>=1.5 in /usr/local/lib/python3.7/dist-packages (from python-dateutil>=2.7.3->pandas>=0.25.3->pyECLAT) (1.15.0)\n",
            "/content\n"
          ]
        }
      ]
    },
    {
      "cell_type": "markdown",
      "source": [
        "Загружаем данные"
      ],
      "metadata": {
        "id": "HGH3Fp20Y8qF"
      }
    },
    {
      "cell_type": "code",
      "source": [
        "df = pd.read_csv(\"Market_Basket_Optimisation.csv\", header=None)"
      ],
      "metadata": {
        "id": "auv2v8KZLUjT"
      },
      "execution_count": 264,
      "outputs": []
    },
    {
      "cell_type": "markdown",
      "source": [
        "И собственно используем библиотеку"
      ],
      "metadata": {
        "id": "w4WbibxTY_zG"
      }
    },
    {
      "cell_type": "code",
      "source": [
        "from pyECLAT import ECLAT\n",
        "eclat_instance = ECLAT(data=df, verbose=True)"
      ],
      "metadata": {
        "id": "bg6HcoSpLNJI",
        "colab": {
          "base_uri": "https://localhost:8080/"
        },
        "outputId": "db4441dd-d887-4dc1-9a0c-0573e267158e"
      },
      "execution_count": 265,
      "outputs": [
        {
          "output_type": "stream",
          "name": "stderr",
          "text": [
            "100%|██████████| 139/139 [00:01<00:00, 77.63it/s]\n",
            "100%|██████████| 139/139 [00:00<00:00, 2287.98it/s]\n",
            "100%|██████████| 139/139 [00:00<00:00, 2629.17it/s]\n"
          ]
        }
      ]
    },
    {
      "cell_type": "markdown",
      "source": [
        "После получения eclat_instance автоматически генерируется двоичный фрейм данных, среди других ресурсов, к которым можно получить доступ:"
      ],
      "metadata": {
        "id": "Dv3FzMh3L2iD"
      }
    },
    {
      "cell_type": "code",
      "source": [
        "eclat_instance.df_bin"
      ],
      "metadata": {
        "colab": {
          "base_uri": "https://localhost:8080/",
          "height": 522
        },
        "id": "vGpVGvVeL4ci",
        "outputId": "ac0a9267-86bf-46c0-cbc5-59aa90d1d942"
      },
      "execution_count": 266,
      "outputs": [
        {
          "output_type": "execute_result",
          "data": {
            "text/plain": [
              "      5  11  tomatoes  oil  salt  cereals  frozen smoothie  hand protein bar  \\\n",
              "0     1   1         0    0     0        0                0                 0   \n",
              "1     0   0         0    0     0        0                1                 0   \n",
              "2     0   0         0    0     0        0                0                 0   \n",
              "3     0   0         0    0     0        0                0                 0   \n",
              "4     0   0         0    0     0        0                0                 0   \n",
              "...  ..  ..       ...  ...   ...      ...              ...               ...   \n",
              "7497  0   0         0    0     0        0                0                 0   \n",
              "7498  0   0         0    0     0        0                0                 0   \n",
              "7499  0   0         0    0     0        0                0                 0   \n",
              "7500  0   0         0    0     0        0                0                 0   \n",
              "7501  0   0         0    0     0        0                1                 0   \n",
              "\n",
              "      cream  gluten free bar  ...  cake  2  fresh bread  babies food  \\\n",
              "0         0                0  ...     0  1            0            0   \n",
              "1         0                0  ...     0  0            0            0   \n",
              "2         0                0  ...     0  0            0            0   \n",
              "3         0                0  ...     0  0            0            0   \n",
              "4         0                0  ...     0  0            0            0   \n",
              "...     ...              ...  ...   ... ..          ...          ...   \n",
              "7497      0                0  ...     0  0            1            0   \n",
              "7498      0                0  ...     0  0            0            0   \n",
              "7499      0                0  ...     0  0            0            0   \n",
              "7500      0                0  ...     0  0            0            0   \n",
              "7501      0                0  ...     0  0            0            0   \n",
              "\n",
              "      mashed potato  whole weat flour  chocolate  green beans  olive oil  \\\n",
              "0                 0                 0          0            0          0   \n",
              "1                 0                 1          0            0          1   \n",
              "2                 0                 0          0            0          0   \n",
              "3                 0                 0          0            0          0   \n",
              "4                 0                 0          0            0          0   \n",
              "...             ...               ...        ...          ...        ...   \n",
              "7497              0                 0          0            0          0   \n",
              "7498              0                 0          0            0          0   \n",
              "7499              0                 0          0            0          0   \n",
              "7500              0                 0          0            0          0   \n",
              "7501              0                 0          0            0          0   \n",
              "\n",
              "      pancakes  \n",
              "0            0  \n",
              "1            0  \n",
              "2            0  \n",
              "3            0  \n",
              "4            0  \n",
              "...        ...  \n",
              "7497         0  \n",
              "7498         0  \n",
              "7499         0  \n",
              "7500         0  \n",
              "7501         0  \n",
              "\n",
              "[7502 rows x 139 columns]"
            ],
            "text/html": [
              "\n",
              "  <div id=\"df-6a72066b-85c5-4756-8691-bdbaf61ea9d1\">\n",
              "    <div class=\"colab-df-container\">\n",
              "      <div>\n",
              "<style scoped>\n",
              "    .dataframe tbody tr th:only-of-type {\n",
              "        vertical-align: middle;\n",
              "    }\n",
              "\n",
              "    .dataframe tbody tr th {\n",
              "        vertical-align: top;\n",
              "    }\n",
              "\n",
              "    .dataframe thead th {\n",
              "        text-align: right;\n",
              "    }\n",
              "</style>\n",
              "<table border=\"1\" class=\"dataframe\">\n",
              "  <thead>\n",
              "    <tr style=\"text-align: right;\">\n",
              "      <th></th>\n",
              "      <th>5</th>\n",
              "      <th>11</th>\n",
              "      <th>tomatoes</th>\n",
              "      <th>oil</th>\n",
              "      <th>salt</th>\n",
              "      <th>cereals</th>\n",
              "      <th>frozen smoothie</th>\n",
              "      <th>hand protein bar</th>\n",
              "      <th>cream</th>\n",
              "      <th>gluten free bar</th>\n",
              "      <th>...</th>\n",
              "      <th>cake</th>\n",
              "      <th>2</th>\n",
              "      <th>fresh bread</th>\n",
              "      <th>babies food</th>\n",
              "      <th>mashed potato</th>\n",
              "      <th>whole weat flour</th>\n",
              "      <th>chocolate</th>\n",
              "      <th>green beans</th>\n",
              "      <th>olive oil</th>\n",
              "      <th>pancakes</th>\n",
              "    </tr>\n",
              "  </thead>\n",
              "  <tbody>\n",
              "    <tr>\n",
              "      <th>0</th>\n",
              "      <td>1</td>\n",
              "      <td>1</td>\n",
              "      <td>0</td>\n",
              "      <td>0</td>\n",
              "      <td>0</td>\n",
              "      <td>0</td>\n",
              "      <td>0</td>\n",
              "      <td>0</td>\n",
              "      <td>0</td>\n",
              "      <td>0</td>\n",
              "      <td>...</td>\n",
              "      <td>0</td>\n",
              "      <td>1</td>\n",
              "      <td>0</td>\n",
              "      <td>0</td>\n",
              "      <td>0</td>\n",
              "      <td>0</td>\n",
              "      <td>0</td>\n",
              "      <td>0</td>\n",
              "      <td>0</td>\n",
              "      <td>0</td>\n",
              "    </tr>\n",
              "    <tr>\n",
              "      <th>1</th>\n",
              "      <td>0</td>\n",
              "      <td>0</td>\n",
              "      <td>0</td>\n",
              "      <td>0</td>\n",
              "      <td>0</td>\n",
              "      <td>0</td>\n",
              "      <td>1</td>\n",
              "      <td>0</td>\n",
              "      <td>0</td>\n",
              "      <td>0</td>\n",
              "      <td>...</td>\n",
              "      <td>0</td>\n",
              "      <td>0</td>\n",
              "      <td>0</td>\n",
              "      <td>0</td>\n",
              "      <td>0</td>\n",
              "      <td>1</td>\n",
              "      <td>0</td>\n",
              "      <td>0</td>\n",
              "      <td>1</td>\n",
              "      <td>0</td>\n",
              "    </tr>\n",
              "    <tr>\n",
              "      <th>2</th>\n",
              "      <td>0</td>\n",
              "      <td>0</td>\n",
              "      <td>0</td>\n",
              "      <td>0</td>\n",
              "      <td>0</td>\n",
              "      <td>0</td>\n",
              "      <td>0</td>\n",
              "      <td>0</td>\n",
              "      <td>0</td>\n",
              "      <td>0</td>\n",
              "      <td>...</td>\n",
              "      <td>0</td>\n",
              "      <td>0</td>\n",
              "      <td>0</td>\n",
              "      <td>0</td>\n",
              "      <td>0</td>\n",
              "      <td>0</td>\n",
              "      <td>0</td>\n",
              "      <td>0</td>\n",
              "      <td>0</td>\n",
              "      <td>0</td>\n",
              "    </tr>\n",
              "    <tr>\n",
              "      <th>3</th>\n",
              "      <td>0</td>\n",
              "      <td>0</td>\n",
              "      <td>0</td>\n",
              "      <td>0</td>\n",
              "      <td>0</td>\n",
              "      <td>0</td>\n",
              "      <td>0</td>\n",
              "      <td>0</td>\n",
              "      <td>0</td>\n",
              "      <td>0</td>\n",
              "      <td>...</td>\n",
              "      <td>0</td>\n",
              "      <td>0</td>\n",
              "      <td>0</td>\n",
              "      <td>0</td>\n",
              "      <td>0</td>\n",
              "      <td>0</td>\n",
              "      <td>0</td>\n",
              "      <td>0</td>\n",
              "      <td>0</td>\n",
              "      <td>0</td>\n",
              "    </tr>\n",
              "    <tr>\n",
              "      <th>4</th>\n",
              "      <td>0</td>\n",
              "      <td>0</td>\n",
              "      <td>0</td>\n",
              "      <td>0</td>\n",
              "      <td>0</td>\n",
              "      <td>0</td>\n",
              "      <td>0</td>\n",
              "      <td>0</td>\n",
              "      <td>0</td>\n",
              "      <td>0</td>\n",
              "      <td>...</td>\n",
              "      <td>0</td>\n",
              "      <td>0</td>\n",
              "      <td>0</td>\n",
              "      <td>0</td>\n",
              "      <td>0</td>\n",
              "      <td>0</td>\n",
              "      <td>0</td>\n",
              "      <td>0</td>\n",
              "      <td>0</td>\n",
              "      <td>0</td>\n",
              "    </tr>\n",
              "    <tr>\n",
              "      <th>...</th>\n",
              "      <td>...</td>\n",
              "      <td>...</td>\n",
              "      <td>...</td>\n",
              "      <td>...</td>\n",
              "      <td>...</td>\n",
              "      <td>...</td>\n",
              "      <td>...</td>\n",
              "      <td>...</td>\n",
              "      <td>...</td>\n",
              "      <td>...</td>\n",
              "      <td>...</td>\n",
              "      <td>...</td>\n",
              "      <td>...</td>\n",
              "      <td>...</td>\n",
              "      <td>...</td>\n",
              "      <td>...</td>\n",
              "      <td>...</td>\n",
              "      <td>...</td>\n",
              "      <td>...</td>\n",
              "      <td>...</td>\n",
              "      <td>...</td>\n",
              "    </tr>\n",
              "    <tr>\n",
              "      <th>7497</th>\n",
              "      <td>0</td>\n",
              "      <td>0</td>\n",
              "      <td>0</td>\n",
              "      <td>0</td>\n",
              "      <td>0</td>\n",
              "      <td>0</td>\n",
              "      <td>0</td>\n",
              "      <td>0</td>\n",
              "      <td>0</td>\n",
              "      <td>0</td>\n",
              "      <td>...</td>\n",
              "      <td>0</td>\n",
              "      <td>0</td>\n",
              "      <td>1</td>\n",
              "      <td>0</td>\n",
              "      <td>0</td>\n",
              "      <td>0</td>\n",
              "      <td>0</td>\n",
              "      <td>0</td>\n",
              "      <td>0</td>\n",
              "      <td>0</td>\n",
              "    </tr>\n",
              "    <tr>\n",
              "      <th>7498</th>\n",
              "      <td>0</td>\n",
              "      <td>0</td>\n",
              "      <td>0</td>\n",
              "      <td>0</td>\n",
              "      <td>0</td>\n",
              "      <td>0</td>\n",
              "      <td>0</td>\n",
              "      <td>0</td>\n",
              "      <td>0</td>\n",
              "      <td>0</td>\n",
              "      <td>...</td>\n",
              "      <td>0</td>\n",
              "      <td>0</td>\n",
              "      <td>0</td>\n",
              "      <td>0</td>\n",
              "      <td>0</td>\n",
              "      <td>0</td>\n",
              "      <td>0</td>\n",
              "      <td>0</td>\n",
              "      <td>0</td>\n",
              "      <td>0</td>\n",
              "    </tr>\n",
              "    <tr>\n",
              "      <th>7499</th>\n",
              "      <td>0</td>\n",
              "      <td>0</td>\n",
              "      <td>0</td>\n",
              "      <td>0</td>\n",
              "      <td>0</td>\n",
              "      <td>0</td>\n",
              "      <td>0</td>\n",
              "      <td>0</td>\n",
              "      <td>0</td>\n",
              "      <td>0</td>\n",
              "      <td>...</td>\n",
              "      <td>0</td>\n",
              "      <td>0</td>\n",
              "      <td>0</td>\n",
              "      <td>0</td>\n",
              "      <td>0</td>\n",
              "      <td>0</td>\n",
              "      <td>0</td>\n",
              "      <td>0</td>\n",
              "      <td>0</td>\n",
              "      <td>0</td>\n",
              "    </tr>\n",
              "    <tr>\n",
              "      <th>7500</th>\n",
              "      <td>0</td>\n",
              "      <td>0</td>\n",
              "      <td>0</td>\n",
              "      <td>0</td>\n",
              "      <td>0</td>\n",
              "      <td>0</td>\n",
              "      <td>0</td>\n",
              "      <td>0</td>\n",
              "      <td>0</td>\n",
              "      <td>0</td>\n",
              "      <td>...</td>\n",
              "      <td>0</td>\n",
              "      <td>0</td>\n",
              "      <td>0</td>\n",
              "      <td>0</td>\n",
              "      <td>0</td>\n",
              "      <td>0</td>\n",
              "      <td>0</td>\n",
              "      <td>0</td>\n",
              "      <td>0</td>\n",
              "      <td>0</td>\n",
              "    </tr>\n",
              "    <tr>\n",
              "      <th>7501</th>\n",
              "      <td>0</td>\n",
              "      <td>0</td>\n",
              "      <td>0</td>\n",
              "      <td>0</td>\n",
              "      <td>0</td>\n",
              "      <td>0</td>\n",
              "      <td>1</td>\n",
              "      <td>0</td>\n",
              "      <td>0</td>\n",
              "      <td>0</td>\n",
              "      <td>...</td>\n",
              "      <td>0</td>\n",
              "      <td>0</td>\n",
              "      <td>0</td>\n",
              "      <td>0</td>\n",
              "      <td>0</td>\n",
              "      <td>0</td>\n",
              "      <td>0</td>\n",
              "      <td>0</td>\n",
              "      <td>0</td>\n",
              "      <td>0</td>\n",
              "    </tr>\n",
              "  </tbody>\n",
              "</table>\n",
              "<p>7502 rows × 139 columns</p>\n",
              "</div>\n",
              "      <button class=\"colab-df-convert\" onclick=\"convertToInteractive('df-6a72066b-85c5-4756-8691-bdbaf61ea9d1')\"\n",
              "              title=\"Convert this dataframe to an interactive table.\"\n",
              "              style=\"display:none;\">\n",
              "        \n",
              "  <svg xmlns=\"http://www.w3.org/2000/svg\" height=\"24px\"viewBox=\"0 0 24 24\"\n",
              "       width=\"24px\">\n",
              "    <path d=\"M0 0h24v24H0V0z\" fill=\"none\"/>\n",
              "    <path d=\"M18.56 5.44l.94 2.06.94-2.06 2.06-.94-2.06-.94-.94-2.06-.94 2.06-2.06.94zm-11 1L8.5 8.5l.94-2.06 2.06-.94-2.06-.94L8.5 2.5l-.94 2.06-2.06.94zm10 10l.94 2.06.94-2.06 2.06-.94-2.06-.94-.94-2.06-.94 2.06-2.06.94z\"/><path d=\"M17.41 7.96l-1.37-1.37c-.4-.4-.92-.59-1.43-.59-.52 0-1.04.2-1.43.59L10.3 9.45l-7.72 7.72c-.78.78-.78 2.05 0 2.83L4 21.41c.39.39.9.59 1.41.59.51 0 1.02-.2 1.41-.59l7.78-7.78 2.81-2.81c.8-.78.8-2.07 0-2.86zM5.41 20L4 18.59l7.72-7.72 1.47 1.35L5.41 20z\"/>\n",
              "  </svg>\n",
              "      </button>\n",
              "      \n",
              "  <style>\n",
              "    .colab-df-container {\n",
              "      display:flex;\n",
              "      flex-wrap:wrap;\n",
              "      gap: 12px;\n",
              "    }\n",
              "\n",
              "    .colab-df-convert {\n",
              "      background-color: #E8F0FE;\n",
              "      border: none;\n",
              "      border-radius: 50%;\n",
              "      cursor: pointer;\n",
              "      display: none;\n",
              "      fill: #1967D2;\n",
              "      height: 32px;\n",
              "      padding: 0 0 0 0;\n",
              "      width: 32px;\n",
              "    }\n",
              "\n",
              "    .colab-df-convert:hover {\n",
              "      background-color: #E2EBFA;\n",
              "      box-shadow: 0px 1px 2px rgba(60, 64, 67, 0.3), 0px 1px 3px 1px rgba(60, 64, 67, 0.15);\n",
              "      fill: #174EA6;\n",
              "    }\n",
              "\n",
              "    [theme=dark] .colab-df-convert {\n",
              "      background-color: #3B4455;\n",
              "      fill: #D2E3FC;\n",
              "    }\n",
              "\n",
              "    [theme=dark] .colab-df-convert:hover {\n",
              "      background-color: #434B5C;\n",
              "      box-shadow: 0px 1px 3px 1px rgba(0, 0, 0, 0.15);\n",
              "      filter: drop-shadow(0px 1px 2px rgba(0, 0, 0, 0.3));\n",
              "      fill: #FFFFFF;\n",
              "    }\n",
              "  </style>\n",
              "\n",
              "      <script>\n",
              "        const buttonEl =\n",
              "          document.querySelector('#df-6a72066b-85c5-4756-8691-bdbaf61ea9d1 button.colab-df-convert');\n",
              "        buttonEl.style.display =\n",
              "          google.colab.kernel.accessAllowed ? 'block' : 'none';\n",
              "\n",
              "        async function convertToInteractive(key) {\n",
              "          const element = document.querySelector('#df-6a72066b-85c5-4756-8691-bdbaf61ea9d1');\n",
              "          const dataTable =\n",
              "            await google.colab.kernel.invokeFunction('convertToInteractive',\n",
              "                                                     [key], {});\n",
              "          if (!dataTable) return;\n",
              "\n",
              "          const docLinkHtml = 'Like what you see? Visit the ' +\n",
              "            '<a target=\"_blank\" href=https://colab.research.google.com/notebooks/data_table.ipynb>data table notebook</a>'\n",
              "            + ' to learn more about interactive tables.';\n",
              "          element.innerHTML = '';\n",
              "          dataTable['output_type'] = 'display_data';\n",
              "          await google.colab.output.renderOutput(dataTable, element);\n",
              "          const docLink = document.createElement('div');\n",
              "          docLink.innerHTML = docLinkHtml;\n",
              "          element.appendChild(docLink);\n",
              "        }\n",
              "      </script>\n",
              "    </div>\n",
              "  </div>\n",
              "  "
            ]
          },
          "metadata": {},
          "execution_count": 266
        }
      ]
    },
    {
      "cell_type": "code",
      "source": [
        "eclat_instance.uniq_"
      ],
      "metadata": {
        "colab": {
          "base_uri": "https://localhost:8080/"
        },
        "id": "T8fBoIKmL21q",
        "outputId": "7b1308b2-387c-49a1-b5a7-73f56ff23ef6"
      },
      "execution_count": 267,
      "outputs": [
        {
          "output_type": "execute_result",
          "data": {
            "text/plain": [
              "[nan,\n",
              " '5',\n",
              " '11',\n",
              " 'tomatoes',\n",
              " 'oil',\n",
              " 'salt',\n",
              " 'cereals',\n",
              " 'frozen smoothie',\n",
              " 'hand protein bar',\n",
              " 'cream',\n",
              " 'gluten free bar',\n",
              " 'salad',\n",
              " 'mint',\n",
              " 'eggplant',\n",
              " 'pet food',\n",
              " 'clothes accessories',\n",
              " 'pepper',\n",
              " '16',\n",
              " 'salmon',\n",
              " 'magazines',\n",
              " 'burgers',\n",
              " 'grated cheese',\n",
              " 'protein bar',\n",
              " '13',\n",
              " 'honey',\n",
              " 'low fat yogurt',\n",
              " 'fromage blanc',\n",
              " '18',\n",
              " 'avocado',\n",
              " 'pasta',\n",
              " 'yogurt cake',\n",
              " 'shallot',\n",
              " 'ground beef',\n",
              " 'bacon',\n",
              " 'mayonnaise',\n",
              " '6',\n",
              " 'burger sauce',\n",
              " 'bramble',\n",
              " 'antioxydant juice',\n",
              " 'spaghetti',\n",
              " 'extra dark chocolate',\n",
              " 'cookies',\n",
              " 'pickles',\n",
              " '4',\n",
              " 'sandwich',\n",
              " 'tomato sauce',\n",
              " 'shrimp',\n",
              " 'oatmeal',\n",
              " 'nonfat milk',\n",
              " 'light cream',\n",
              " 'whole wheat rice',\n",
              " 'strawberries',\n",
              " 'corn',\n",
              " 'milk',\n",
              " 'toothpaste',\n",
              " 'zucchini',\n",
              " 'cauliflower',\n",
              " '19',\n",
              " 'cider',\n",
              " 'black tea',\n",
              " 'turkey',\n",
              " 'herb & pepper',\n",
              " 'vegetables mix',\n",
              " 'chili',\n",
              " '8',\n",
              " 'dessert wine',\n",
              " 'spinach',\n",
              " 'mushroom cream sauce',\n",
              " 'frozen vegetables',\n",
              " 'hot dogs',\n",
              " 'almonds',\n",
              " 'energy bar',\n",
              " 'parmesan cheese',\n",
              " 'gums',\n",
              " '7',\n",
              " '1',\n",
              " '10',\n",
              " 'escalope',\n",
              " '20',\n",
              " 'mint green tea',\n",
              " '12',\n",
              " 'ham',\n",
              " 'mineral water',\n",
              " 'white wine',\n",
              " '9',\n",
              " 'brownies',\n",
              " 'meatballs',\n",
              " 'muffins',\n",
              " 'asparagus',\n",
              " 'cottage cheese',\n",
              " 'soup',\n",
              " 'green tea',\n",
              " 'candy bars',\n",
              " 'flax seed',\n",
              " 'light mayo',\n",
              " 'tea',\n",
              " 'tomato juice',\n",
              " 'carrots',\n",
              " 'butter',\n",
              " 'water spray',\n",
              " 'whole wheat pasta',\n",
              " 'french wine',\n",
              " 'green grapes',\n",
              " 'red wine',\n",
              " 'napkins',\n",
              " 'eggs',\n",
              " 'yams',\n",
              " 'blueberries',\n",
              " 'bug spray',\n",
              " '15',\n",
              " '3',\n",
              " 'french fries',\n",
              " 'chocolate bread',\n",
              " 'shampoo',\n",
              " 'champagne',\n",
              " 'rice',\n",
              " 'barbecue sauce',\n",
              " 'melons',\n",
              " '17',\n",
              " 'body spray',\n",
              " 'ketchup',\n",
              " '14',\n",
              " 'cooking oil',\n",
              " 'chicken',\n",
              " 'strong cheese',\n",
              " 'energy drink',\n",
              " 'sparkling water',\n",
              " 'chutney',\n",
              " 'soda',\n",
              " 'fresh tuna',\n",
              " 'cake',\n",
              " '2',\n",
              " 'fresh bread',\n",
              " 'babies food',\n",
              " 'mashed potato',\n",
              " 'whole weat flour',\n",
              " 'chocolate',\n",
              " 'green beans',\n",
              " 'olive oil',\n",
              " 'pancakes']"
            ]
          },
          "metadata": {},
          "execution_count": 267
        }
      ]
    },
    {
      "cell_type": "markdown",
      "source": [
        "eclat_instance. поддержка, eclat_instance. подходит и eclat_instance. fit_all функции для выполнения вычислений. Пример:"
      ],
      "metadata": {
        "id": "a_b8GRKlL9Hz"
      }
    },
    {
      "cell_type": "code",
      "source": [
        "get_ECLAT_indexes, get_ECLAT_supports = eclat_instance.fit(min_support=0.08,\n",
        "                                                           min_combination=1,\n",
        "                                                           max_combination=3,\n",
        "                                                           separator=' & ',\n",
        "                                                           verbose=True)"
      ],
      "metadata": {
        "colab": {
          "base_uri": "https://localhost:8080/"
        },
        "id": "1U4_x5PjMAIU",
        "outputId": "4ae01cf1-c89e-4943-9474-18cbdd181d51"
      },
      "execution_count": 268,
      "outputs": [
        {
          "output_type": "stream",
          "name": "stdout",
          "text": [
            "Combination 1 by 1\n"
          ]
        },
        {
          "output_type": "stream",
          "name": "stderr",
          "text": [
            "13it [00:00, 59.73it/s]\n"
          ]
        },
        {
          "output_type": "stream",
          "name": "stdout",
          "text": [
            "Combination 2 by 2\n"
          ]
        },
        {
          "output_type": "stream",
          "name": "stderr",
          "text": [
            "78it [00:00, 106.19it/s]\n"
          ]
        },
        {
          "output_type": "stream",
          "name": "stdout",
          "text": [
            "Combination 3 by 3\n"
          ]
        },
        {
          "output_type": "stream",
          "name": "stderr",
          "text": [
            "286it [00:02, 107.86it/s]\n"
          ]
        }
      ]
    },
    {
      "cell_type": "markdown",
      "source": [
        "#SMPF"
      ],
      "metadata": {
        "id": "lTaBaIewMT0u"
      }
    },
    {
      "cell_type": "markdown",
      "source": [
        "По сути, этот модуль вызывает инструмент командной строки Java SPMF, передает ему аргументы пользователя и анализирует выходные данные.\n",
        "Кроме того, возможно преобразование данных в Pandas DataFrame и CSV.\n",
        "\n",
        "Теоретически все алгоритмы, представленные в SPMF, можно вызывать. Ничто не жестко закодировано, нужный алгоритм и его параметры должны быть просмотрены в документации SPMF."
      ],
      "metadata": {
        "id": "bbj2Z4U_MWrT"
      }
    },
    {
      "cell_type": "code",
      "source": [
        "!pip install spmf"
      ],
      "metadata": {
        "colab": {
          "base_uri": "https://localhost:8080/"
        },
        "id": "3nwecwxuMW8O",
        "outputId": "a1a8a06b-ce75-4a62-bf27-8c4cea51e07d"
      },
      "execution_count": 269,
      "outputs": [
        {
          "output_type": "stream",
          "name": "stdout",
          "text": [
            "Looking in indexes: https://pypi.org/simple, https://us-python.pkg.dev/colab-wheels/public/simple/\n",
            "Requirement already satisfied: spmf in /usr/local/lib/python3.7/dist-packages (1.4)\n"
          ]
        }
      ]
    },
    {
      "cell_type": "code",
      "source": [
        "from spmf import Spmf\n",
        "\n",
        "spmf = Spmf(\"PrefixSpan\", input_filename=\"Market_Basket_Optimisation.csv\",\n",
        "            output_filename=\"Market_Basket_Optimisation_output.csv\", arguments=[0.7, 5])\n",
        "spmf.run()\n",
        "print(spmf.to_pandas_dataframe(pickle=True))\n",
        "spmf.to_csv(\"output.csv\")"
      ],
      "metadata": {
        "colab": {
          "base_uri": "https://localhost:8080/"
        },
        "id": "fTMgUXgaMgLM",
        "outputId": "d37f184a-d1b2-431c-e54f-391137c65731"
      },
      "execution_count": 270,
      "outputs": [
        {
          "output_type": "stream",
          "name": "stdout",
          "text": [
            ">/content/spmf.jar\n",
            "=============  PREFIXSPAN 0.99-2016 - STATISTICS =============\n",
            " Total time ~ 4 ms\n",
            " Frequent sequences count : 0\n",
            " Max memory (mb) : 0.0\n",
            " minsup = 1 sequences.\n",
            " Pattern count : 0\n",
            "===================================================\n",
            "\n",
            "\n",
            "Empty DataFrame\n",
            "Columns: []\n",
            "Index: []\n"
          ]
        }
      ]
    },
    {
      "cell_type": "markdown",
      "source": [
        "#Ссылки"
      ],
      "metadata": {
        "id": "yptk3pOi2H2I"
      }
    },
    {
      "cell_type": "markdown",
      "source": [
        "https://habr.com/ru/post/66016/?ysclid=l3qfmutiwm\n"
      ],
      "metadata": {
        "id": "HrtsZwQn2KAV"
      }
    },
    {
      "cell_type": "markdown",
      "source": [
        "https://en.wikipedia.org/wiki/Association_rule_learning"
      ],
      "metadata": {
        "id": "7C4Nr0Bt3UPE"
      }
    },
    {
      "cell_type": "markdown",
      "source": [
        "https://www.geeksforgeeks.org/learn-one-rule-algorithm/"
      ],
      "metadata": {
        "id": "oHG7d4d53R_U"
      }
    },
    {
      "cell_type": "markdown",
      "source": [
        "http://rasbt.github.io/mlxtend/user_guide/classifier/OneRClassifier/"
      ],
      "metadata": {
        "id": "glhPL1I14tkt"
      }
    },
    {
      "cell_type": "markdown",
      "source": [
        "https://habr.com/ru/company/ods/blog/353502/?ysclid=l3qjtxs4vv"
      ],
      "metadata": {
        "id": "ccNxLui3KYuu"
      }
    },
    {
      "cell_type": "markdown",
      "source": [
        "https://pypi.org/project/pyECLAT/"
      ],
      "metadata": {
        "id": "yy6c7I1qLPMG"
      }
    },
    {
      "cell_type": "markdown",
      "source": [
        "https://loginom.ru/blog/fpg?ysclid=l3qfmjmhn8"
      ],
      "metadata": {
        "id": "QjE_2CmAMO19"
      }
    },
    {
      "cell_type": "markdown",
      "source": [
        "https://pypi.org/project/spmf/"
      ],
      "metadata": {
        "id": "vyOSqAJpMS2J"
      }
    },
    {
      "cell_type": "markdown",
      "source": [
        "http://www.philippe-fournier-viger.com/spmf/index.php?link=documentation.php"
      ],
      "metadata": {
        "id": "UrduBWTVNWL4"
      }
    }
  ]
}